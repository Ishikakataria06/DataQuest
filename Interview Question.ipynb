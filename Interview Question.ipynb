{
 "cells": [
  {
   "cell_type": "markdown",
   "id": "0d9ce9f5-9a51-463a-9a91-0e5b03020386",
   "metadata": {},
   "source": [
    "# Python Interview Questions"
   ]
  },
  {
   "cell_type": "markdown",
   "id": "4ee88660-6987-4fb1-8f66-6c8eeb13f014",
   "metadata": {},
   "source": [
    "* Explore a compilation of commonly asked interview questions that delve into fundamental Python concepts."
   ]
  },
  {
   "cell_type": "markdown",
   "id": "4c5a4c56-85bd-4ea4-a3cb-1f7f053013c4",
   "metadata": {},
   "source": [
    "### Question 1. What do you mean by Python literals?"
   ]
  },
  {
   "cell_type": "raw",
   "id": "21a57d37-b53b-40ac-9505-658a7ca0746f",
   "metadata": {},
   "source": [
    "In Python, literals are the raw data values that are directly specified in your code. They are the basic building blocks of programming and represent fixed values.\n",
    "\n",
    "Here's a breakdown of Python literals in simple terms:\n",
    "\n",
    "Numeric literals: These are used to represent numbers. For example:\n",
    "Integer literals: Whole numbers like 5, 10, -3.\n",
    "Float literals: Decimal numbers like 3.14, 0.5, -2.0.\n",
    "Complex literals: Numbers with a real and imaginary part like 2+3j, -1-2j.\n",
    "\n",
    "String literals: These are sequences of characters enclosed within single quotes (''), double quotes (\"\") or triple quotes (''' ''', \"\"\" \"\"\"). For example:\n",
    "'hello', \"world\", '123'.\n",
    "Strings can contain letters, numbers, symbols, and spaces.\n",
    "Boolean literals: These represent the truth values True and False. For example:\n",
    "\n",
    "True: Represents a true condition.\n",
    "False: Represents a false condition.\n",
    "\n",
    "None literal: This is a special literal in Python that represents the absence of a value. It is denoted by the keyword None. For example:\n",
    "None: Represents the absence of a value, often used to signify that a variable has not been assigned a value yet or that a function returns nothing.\n",
    "\n",
    "# In lame words, A literal is a simple and direct form of expressing a value.\n",
    "For example: num = 43, here num is a variable and 43 is a numeric integer literal."
   ]
  },
  {
   "cell_type": "markdown",
   "id": "5a0c58bb-8a7e-4b23-8c44-0f9e3104d1be",
   "metadata": {},
   "source": [
    "### Question 2. What type of language is Python?"
   ]
  },
  {
   "cell_type": "raw",
   "id": "80efb809-9851-41ef-bb58-7906068eb216",
   "metadata": {},
   "source": [
    "Python is an interpreted, interactive, object-oriented programming language. Classes, modules, exceptions, dynamic typing, and extremely high-level dynamic data types are all present.\n",
    "\n",
    "Python is an interpreted language with dynamic typing. Because the code is not converted to a binary form, these languages are sometimes referred to as “scripting” languages. While I say dynamically typed, I’m referring to the fact that types don’t have to be stated when coding; the interpreter finds them out at runtime.\n",
    "\n",
    "The readability of Python’s concise, easy-to-learn syntax is prioritized, lowering software maintenance costs. Python provides modules and packages, allowing for programme modularity and code reuse. The Python interpreter and its comprehensive standard library are free to download and distribute in source or binary form for all major platforms."
   ]
  },
  {
   "cell_type": "markdown",
   "id": "d9cbd686-ae52-4353-a4d8-ba81126ebabf",
   "metadata": {},
   "source": [
    "### Question 3. What are local variables and global variables in Python?"
   ]
  },
  {
   "cell_type": "raw",
   "id": "38126dca-7e72-4fc7-a4ad-4820f2106cfe",
   "metadata": {},
   "source": [
    "Local variables are declared inside a function and have a scope that is confined to that function alone, whereas global variables are defined outside of any function and have a global scope. To put it another way, local variables are only available within the function in which they were created, but global variables are accessible across the programme and throughout each function.\n",
    "\n",
    "Local Variables: Local variables are variables that are created within a function and are exclusive to that function. Outside of the function, it can’t be accessed.\n",
    "\n",
    "Global Variables: Global variables are variables that are defined outside of any function and are available throughout the programme, that is, both inside and outside of each function."
   ]
  },
  {
   "cell_type": "markdown",
   "id": "9e40175b-00f2-4b8d-b6c9-f21c9192634a",
   "metadata": {},
   "source": [
    "### Question 4. Explain Scope in Python?"
   ]
  },
  {
   "cell_type": "raw",
   "id": "675e8c9a-9e79-4fa5-adfe-42aa00dfc172",
   "metadata": {},
   "source": [
    "In Python, the scope refers to the region of a program where a particular variable is accessible or visible. It defines the lifetime and accessibility of variables and other identifiers within a program. \n",
    "\n",
    "A few examples scope are given below :\n",
    "\n",
    "Local Scope: When you create a variable inside a function that belongs to the local scope of that function itself and it will only be used inside that function.\n",
    "\n",
    "Global Scope: When a variable is created inside the main body of python code, it is called the global scope. The best part about global scope is they are accessible within any part of the python code from any scope be it global or local.\n",
    "\n",
    "Nested Function: This is also known as a function inside a function, as stated in the example above in local scope variable y is not available outside the function but within any function inside another function.\n",
    "\n",
    "Module Level Scope: This essentially refers to the global objects of the current module accessible within the program.\n",
    "\n",
    "Outermost Scope: This is a reference to all the built-in names that you can call in the program."
   ]
  },
  {
   "cell_type": "markdown",
   "id": "59414eab-83db-42c1-b17f-d673f64df4de",
   "metadata": {},
   "source": [
    "### Question 5. List the common built-in data types in Python?"
   ]
  },
  {
   "cell_type": "raw",
   "id": "5bce8625-d39b-4a9a-b1de-953e06dff7a7",
   "metadata": {},
   "source": [
    "Given below are the most commonly used built-in datatypes : \n",
    "\n",
    "Numbers: Consists of integers, floating-point numbers, and complex numbers.\n",
    "\n",
    "List: We have already seen a bit about lists, to put a formal definition a list is an ordered sequence of items that are mutable, also the elements inside lists can belong to different data types.\n",
    "\n",
    "Tuples:  This too is an ordered sequence of elements but unlike lists tuples are immutable meaning it cannot be changed once declared.\n",
    "\n",
    "String:  This is called the sequence of characters declared within single or double quotes\n",
    "\n",
    "Sets: Sets are basically collections of unique items where order is not uniform.\n",
    "\n",
    "Dictionary: A dictionary always stores values in key and value pairs where each value can be accessed by its particular key.\n",
    "\n",
    "Boolean: There are only two boolean values: True and False"
   ]
  },
  {
   "cell_type": "markdown",
   "id": "d7cd01f5-9124-4d60-9373-b79968fa0251",
   "metadata": {},
   "source": [
    "### Question 6. What are Keywords in Python? "
   ]
  },
  {
   "cell_type": "raw",
   "id": "0b844b3f-f7ad-4280-b1f3-4d051f1ebc4d",
   "metadata": {},
   "source": [
    "Keywords in Python are reserved words that are used as identifiers, function names, or variable names. They help define the structure and syntax of the language. \n",
    "\n",
    "There are a total of 33 keywords in Python 3.7 which can change in the next version, i.e., Python 3.8, Some of the keywords are : True,False,is,return,lambda,def,break,for,etc."
   ]
  },
  {
   "cell_type": "markdown",
   "id": "dc3e65ee-1528-4789-a6e2-29c3f753e7ac",
   "metadata": {},
   "source": [
    "### Question 7.  What is the difference between lists and tuples in Python?"
   ]
  },
  {
   "cell_type": "raw",
   "id": "8834d5f9-a157-4350-a7a9-3a43b2b7f912",
   "metadata": {},
   "source": [
    "List and tuple are data structures in Python that may store one or more objects or values. Using square brackets, you may build a list to hold numerous objects in one variable. Tuples, like arrays, may hold numerous items in a single variable and are defined with parenthesis.\n",
    "* Lists are mutable (can be changed), while tuples are immutable (cannot be changed).\n",
    "* Lists are enclosed in square brackets [], tuples in parentheses ().\n",
    "* Lists are typically used for mutable collections, while tuples are used for immutable collections or for ensuring data integrity."
   ]
  },
  {
   "cell_type": "markdown",
   "id": "66e6913a-360d-47b1-806a-1d010bbe768e",
   "metadata": {},
   "source": [
    "### Question 8. How can you concatenate two tuples?"
   ]
  },
  {
   "cell_type": "raw",
   "id": "8e450782-e8dc-45ba-8f2f-684f5a021654",
   "metadata": {},
   "source": [
    "Let's say we have two tuples:"
   ]
  },
  {
   "cell_type": "code",
   "execution_count": 1,
   "id": "7de40ad9-a81c-43ed-bf1e-0efaa541f632",
   "metadata": {},
   "outputs": [],
   "source": [
    "tup1 = (1,2,3)\n",
    "tup2=(True,\"A\",7)"
   ]
  },
  {
   "cell_type": "code",
   "execution_count": 2,
   "id": "5216ff60-949a-402d-bf36-d42b73f4c49c",
   "metadata": {},
   "outputs": [
    {
     "data": {
      "text/plain": [
       "(1, 2, 3, True, 'A', 7)"
      ]
     },
     "execution_count": 2,
     "metadata": {},
     "output_type": "execute_result"
    }
   ],
   "source": [
    "tup1+tup2"
   ]
  },
  {
   "cell_type": "raw",
   "id": "47d60384-d0af-4524-b647-2f82ece6d7b4",
   "metadata": {},
   "source": [
    "All you have to do is, use the ‘+’ operator between the two tuples and you’ll get the concatenated result."
   ]
  },
  {
   "cell_type": "markdown",
   "id": "c2031b9c-2860-4b24-8e56-1def5e6e3625",
   "metadata": {},
   "source": [
    "### Question 9. What are functions in Python?"
   ]
  },
  {
   "cell_type": "raw",
   "id": "64ac337e-67f1-4975-b4e5-35b2bb36b9ed",
   "metadata": {},
   "source": [
    "Functions in Python refer to blocks that have organized, and reusable codes to perform single, and related events. Functions are important to create better modularity for applications that reuse a high degree of coding. Python has a number of built-in functions like print(). However, it also allows you to create user-defined functions."
   ]
  },
  {
   "cell_type": "markdown",
   "id": "ca8b13b8-64fb-4f23-9e5b-8a493629e848",
   "metadata": {},
   "source": [
    "### Question 10. What is a dictionary in Python? Give an example."
   ]
  },
  {
   "cell_type": "raw",
   "id": "0a5481ec-15cc-4b80-99ba-ea07126e8876",
   "metadata": {},
   "source": [
    "A Python dictionary is a collection of items in no particular order. Python dictionaries are written in curly brackets with keys and values. Dictionaries are optimised to retrieve values for known keys."
   ]
  },
  {
   "cell_type": "code",
   "execution_count": 3,
   "id": "c522eb9e-151a-48c8-8cd1-932b2c197f68",
   "metadata": {},
   "outputs": [
    {
     "data": {
      "text/plain": [
       "dict"
      ]
     },
     "execution_count": 3,
     "metadata": {},
     "output_type": "execute_result"
    }
   ],
   "source": [
    "# example\n",
    "d= {'a':10,'b':20}\n",
    "type(d)"
   ]
  },
  {
   "cell_type": "markdown",
   "id": "98024c32-907f-4164-99b9-43dd3a4a6beb",
   "metadata": {},
   "source": [
    "### Question 11. What is the difference between a tuple and a dictionary?"
   ]
  },
  {
   "cell_type": "raw",
   "id": "f7c7c713-ec7a-4271-b209-fa9fc31386d1",
   "metadata": {},
   "source": [
    "One major difference between a tuple and a dictionary is that a dictionary is mutable while a tuple is not. Meaning the content of a dictionary can be changed without changing its identity, but in a tuple, that’s not possible."
   ]
  },
  {
   "cell_type": "markdown",
   "id": "cd36c998-ba55-4daa-a6e0-efdd773fb049",
   "metadata": {},
   "source": [
    "### Question 12. In Python how do you convert a string into lowercase?"
   ]
  },
  {
   "cell_type": "raw",
   "id": "6f917159-72a0-4fa6-97b3-d37130f8dac0",
   "metadata": {},
   "source": [
    "All the uppercase letter can be converted into lower case using .lower() function."
   ]
  },
  {
   "cell_type": "code",
   "execution_count": 4,
   "id": "16acd315-3c1a-4059-85cc-bbad42a101c1",
   "metadata": {},
   "outputs": [],
   "source": [
    "string = \"ISHIKA\""
   ]
  },
  {
   "cell_type": "code",
   "execution_count": 5,
   "id": "0d83c7f3-9d21-4485-8de9-9dce0056af8a",
   "metadata": {},
   "outputs": [
    {
     "data": {
      "text/plain": [
       "'ishika'"
      ]
     },
     "execution_count": 5,
     "metadata": {},
     "output_type": "execute_result"
    }
   ],
   "source": [
    "string.lower()"
   ]
  },
  {
   "cell_type": "markdown",
   "id": "60397fdf-6e05-4037-a4f3-ec225ff334ec",
   "metadata": {},
   "source": [
    "### Question 13. How do you get a list of all the keys in a dictionary?"
   ]
  },
  {
   "cell_type": "raw",
   "id": "5a95c088-f60c-457c-8405-397f6639961a",
   "metadata": {},
   "source": [
    "One of the ways we can get a list of keys is by using: dict.keys()\n",
    "\n",
    "This method returns all the available keys in the dictionary."
   ]
  },
  {
   "cell_type": "code",
   "execution_count": 6,
   "id": "aaa81d99-38c9-47d9-8e01-fd9a0bdf931e",
   "metadata": {},
   "outputs": [
    {
     "data": {
      "text/plain": [
       "dict_keys(['a', 'b'])"
      ]
     },
     "execution_count": 6,
     "metadata": {},
     "output_type": "execute_result"
    }
   ],
   "source": [
    "d.keys()"
   ]
  },
  {
   "cell_type": "markdown",
   "id": "9ca1878e-cdb9-4492-a613-f4e13d6b6ad3",
   "metadata": {},
   "source": [
    "### Question 14. How can you capitalize the first letter of a string?"
   ]
  },
  {
   "cell_type": "raw",
   "id": "815a3364-0528-457f-b640-d81ca3259124",
   "metadata": {},
   "source": [
    "We can use the capitalize() function to capitalize the first character of a string. If the first character is already in the capital then it returns the original string. "
   ]
  },
  {
   "cell_type": "code",
   "execution_count": 7,
   "id": "40d3725d-7209-486d-a118-b5461956da16",
   "metadata": {},
   "outputs": [],
   "source": [
    "str = \"ishika\""
   ]
  },
  {
   "cell_type": "code",
   "execution_count": 8,
   "id": "2f13bfc1-8f2c-4049-b917-9a273079ffc3",
   "metadata": {},
   "outputs": [
    {
     "data": {
      "text/plain": [
       "'Ishika'"
      ]
     },
     "execution_count": 8,
     "metadata": {},
     "output_type": "execute_result"
    }
   ],
   "source": [
    "str.capitalize()"
   ]
  },
  {
   "cell_type": "markdown",
   "id": "327a84c6-03bf-438d-872c-4bf27f582653",
   "metadata": {},
   "source": [
    "### Question 15. How can you insert an element at a given index in Python?"
   ]
  },
  {
   "cell_type": "raw",
   "id": "5351f9d9-e53d-4e11-a3cb-70747c3faf46",
   "metadata": {},
   "source": [
    "Python has an inbuilt function called the insert() function.\n",
    "It can be used used to insert an element at a given index."
   ]
  },
  {
   "cell_type": "code",
   "execution_count": 9,
   "id": "1640deea-c819-465e-96c3-b971622f3419",
   "metadata": {},
   "outputs": [],
   "source": [
    "l = [0,1,2,3,4,5,\"A\"]"
   ]
  },
  {
   "cell_type": "code",
   "execution_count": 10,
   "id": "be45eb6a-e433-4b90-a91a-7dbaf18a1e35",
   "metadata": {},
   "outputs": [],
   "source": [
    "l.insert(3,10)   #insert 10 at 3rd index "
   ]
  },
  {
   "cell_type": "code",
   "execution_count": 11,
   "id": "5708a9d1-8407-4d04-aef4-32cb4c6952e3",
   "metadata": {},
   "outputs": [
    {
     "data": {
      "text/plain": [
       "[0, 1, 2, 10, 3, 4, 5, 'A']"
      ]
     },
     "execution_count": 11,
     "metadata": {},
     "output_type": "execute_result"
    }
   ],
   "source": [
    "l"
   ]
  },
  {
   "cell_type": "markdown",
   "id": "2180d86c-2baf-49d4-afc9-d37100bd4820",
   "metadata": {},
   "source": [
    "### Question 16. How will you remove duplicate elements from a list?"
   ]
  },
  {
   "cell_type": "raw",
   "id": "61ede881-58cb-4782-9c12-dc6d22c43d9e",
   "metadata": {},
   "source": [
    "There are many ways to do it, but the most common method to do it is converting the list into set as set contains only unique values."
   ]
  },
  {
   "cell_type": "code",
   "execution_count": 12,
   "id": "a1b9f04f-77d3-41f8-bb62-a145640b1d78",
   "metadata": {},
   "outputs": [],
   "source": [
    "li = [0,1,2,2,3,4,5,5,6,7,7,8]"
   ]
  },
  {
   "cell_type": "code",
   "execution_count": 13,
   "id": "bea23dc5-1836-419f-a3d8-dbdfc642aeaa",
   "metadata": {},
   "outputs": [
    {
     "name": "stdout",
     "output_type": "stream",
     "text": [
      "[0, 1, 2, 3, 4, 5, 6, 7, 8]\n"
     ]
    }
   ],
   "source": [
    "li_2 = list(set(li))\n",
    "print(li_2)"
   ]
  },
  {
   "cell_type": "markdown",
   "id": "d469d79f-ec1d-4a5a-8b0c-21da96fd8744",
   "metadata": {},
   "source": [
    "### Question 17. What is recursion?"
   ]
  },
  {
   "cell_type": "raw",
   "id": "f260886a-13b5-4385-a3c5-e5497a12cecb",
   "metadata": {},
   "source": [
    "Recursion is a function calling itself one or more times in it body. One very important condition a recursive function should have to be used in a program is, it should terminate, else there would be a problem of an infinite loop."
   ]
  },
  {
   "cell_type": "markdown",
   "id": "96f83a1b-9aba-438c-bc2e-77ebd81f41ca",
   "metadata": {},
   "source": [
    "### Question 18. Explain Python List Comprehension."
   ]
  },
  {
   "cell_type": "raw",
   "id": "2c40483b-90a2-4c9c-bb88-d8a64104bf41",
   "metadata": {},
   "source": [
    "List comprehensions are used for transforming one list into another list. Elements can be conditionally included in the new list and each element can be transformed as needed. It consists of an expression leading to a for clause, enclosed in brackets."
   ]
  },
  {
   "cell_type": "code",
   "execution_count": 14,
   "id": "beb11033-ffbb-453d-b2aa-912b1b3a7069",
   "metadata": {},
   "outputs": [
    {
     "data": {
      "text/plain": [
       "[20, 22, 24, 26, 28, 30, 32, 34, 36]"
      ]
     },
     "execution_count": 14,
     "metadata": {},
     "output_type": "execute_result"
    }
   ],
   "source": [
    "# example\n",
    "[i*2 for i in range (10,19)]"
   ]
  },
  {
   "cell_type": "markdown",
   "id": "aceca822-f7cf-43e3-b497-a92addc40464",
   "metadata": {},
   "source": [
    "### Question 18. What is the bytes() function?"
   ]
  },
  {
   "cell_type": "raw",
   "id": "cbf98b14-368e-416c-b65c-4e56260c01fd",
   "metadata": {},
   "source": [
    "The bytes() function returns a bytes object. It is used to convert objects into bytes objects or create empty bytes objects of the specified size."
   ]
  },
  {
   "cell_type": "markdown",
   "id": "445d6aed-7e4b-4a8d-b22a-cbd316371f11",
   "metadata": {},
   "source": [
    "### Question 19. What are the different types of operators in Python?"
   ]
  },
  {
   "cell_type": "raw",
   "id": "10baf9b0-4871-477f-af1d-7fa53598d753",
   "metadata": {},
   "source": [
    "Python has the following basic operators:\n",
    "\n",
    "Arithmetic (Addition(+), Substraction(-), Multiplication(*), Division(/), Modulus(%) ), Relational (<, >, <=, >=, ==, !=, ),\n",
    "Assignment (=. +=, -=, /=, *=, %= ),\n",
    "Logical (and, or not ), Membership, Identity, and Bitwise Operators"
   ]
  },
  {
   "cell_type": "markdown",
   "id": "bdd72aa8-4dab-41a5-8451-0a61ae2d4dff",
   "metadata": {},
   "source": [
    "### Question 20. What is a map() function in Python?"
   ]
  },
  {
   "cell_type": "raw",
   "id": "119dea43-54eb-4aad-b539-31a228c85180",
   "metadata": {},
   "source": [
    "The map() function in Python is used for applying a function on all elements of a specified iterable. It consists of two parameters, function and iterable. The function is taken as an argument and then applied to all the elements of an iterable(passed as the second argument). An object list is returned as a result."
   ]
  },
  {
   "cell_type": "code",
   "execution_count": 15,
   "id": "9aa70d63-8c54-4949-b1d8-db86de1dc36b",
   "metadata": {},
   "outputs": [],
   "source": [
    "def add(n):\n",
    "    return n+n"
   ]
  },
  {
   "cell_type": "code",
   "execution_count": 16,
   "id": "71492c1b-e679-4b01-91e7-2b05333744af",
   "metadata": {},
   "outputs": [],
   "source": [
    "num = [1,2,3,4,5]"
   ]
  },
  {
   "cell_type": "code",
   "execution_count": 17,
   "id": "38ec8205-aaa8-4c7b-8173-b92cf0c99a98",
   "metadata": {},
   "outputs": [
    {
     "name": "stdout",
     "output_type": "stream",
     "text": [
      "[2, 4, 6, 8, 10]\n"
     ]
    }
   ],
   "source": [
    "added_numbers = map(add,num)\n",
    "list_maped = list(added_numbers)\n",
    "print(list_maped)"
   ]
  },
  {
   "cell_type": "markdown",
   "id": "6556f5f8-2107-4554-9e68-e32f5a007ee9",
   "metadata": {},
   "source": [
    "### Question 21. What is __init__ in Python?"
   ]
  },
  {
   "cell_type": "raw",
   "id": "20119a44-41c7-491d-b61b-a3694d984ae1",
   "metadata": {},
   "source": [
    "_init_ methodology is a reserved method in Python aka constructor in OOP. When an object is created from a class and _init_ methodology is called to access the class attributes"
   ]
  },
  {
   "cell_type": "markdown",
   "id": "f62142bd-97b9-41f0-9f28-9d81394bd7ce",
   "metadata": {},
   "source": [
    "### Question 22. What is pass in Python?"
   ]
  },
  {
   "cell_type": "raw",
   "id": "bbc30f31-eb9d-4a1b-a456-12d524bb798f",
   "metadata": {},
   "source": [
    "Pass is a statement that does nothing when executed. In other words, it is a Null statement. This statement is not ignored by the interpreter, but the statement results in no operation. It is used when you do not want any command to execute but a statement is required."
   ]
  },
  {
   "cell_type": "markdown",
   "id": "c10e1af0-0c1e-402b-b259-24b31714481b",
   "metadata": {},
   "source": [
    "### Question 23. How can a number be converted to a string?"
   ]
  },
  {
   "cell_type": "raw",
   "id": "8a197da8-29b3-4090-bc6d-998e364a96e3",
   "metadata": {},
   "source": [
    "The inbuilt function str() can be used to convert a number to a string."
   ]
  },
  {
   "cell_type": "markdown",
   "id": "51a6d598-9f34-496b-b2de-52eb47f1813f",
   "metadata": {},
   "source": [
    "### Question 24. Define encapsulation in Python?"
   ]
  },
  {
   "cell_type": "raw",
   "id": "83c78ef7-535a-49d7-bad9-e33d9e49eccd",
   "metadata": {},
   "source": [
    "Encapsulation is a fundamental concept in object-oriented programming (OOP) where data (attributes) and methods (functions) that operate on that data are bundled together within a class. It involves hiding the internal state and implementation details of an object from the outside world, and providing controlled access to the object's data through methods"
   ]
  },
  {
   "cell_type": "markdown",
   "id": "0473d0e6-31f4-4a31-9e85-c0346afa74b8",
   "metadata": {},
   "source": [
    "### Question 25. What is the type () in Python?"
   ]
  },
  {
   "cell_type": "raw",
   "id": "8c2b5d16-80f6-4520-8489-2c5e7b53684b",
   "metadata": {},
   "source": [
    "type() is a built-in method that either returns the type of the object or returns a new type of object based on the arguments passed."
   ]
  },
  {
   "cell_type": "code",
   "execution_count": 18,
   "id": "f8bd978b-44f8-4fc6-9699-f2bdf7f69236",
   "metadata": {},
   "outputs": [
    {
     "data": {
      "text/plain": [
       "str"
      ]
     },
     "execution_count": 18,
     "metadata": {},
     "output_type": "execute_result"
    }
   ],
   "source": [
    "a = \"A\"\n",
    "type(a)"
   ]
  },
  {
   "cell_type": "markdown",
   "id": "fd73e687-ef8e-4729-a487-e968846afaf0",
   "metadata": {},
   "source": [
    "### Question 26. What is the split() function used for?"
   ]
  },
  {
   "cell_type": "raw",
   "id": "e0ba21d8-15fe-4e6c-9224-709611d55ad7",
   "metadata": {},
   "source": [
    "Split function is used to split a string into shorter strings using defined separators"
   ]
  },
  {
   "cell_type": "code",
   "execution_count": 19,
   "id": "8244a935-cf7c-4f32-b7e3-ab5b993ae8bb",
   "metadata": {},
   "outputs": [
    {
     "data": {
      "text/plain": [
       "['A', 'B', 'C']"
      ]
     },
     "execution_count": 19,
     "metadata": {},
     "output_type": "execute_result"
    }
   ],
   "source": [
    "lettes = (\"A,B,C\")\n",
    "lettes.split(',')"
   ]
  },
  {
   "cell_type": "markdown",
   "id": "b7b2ba8c-e05f-40e1-aad8-4a05b80abef5",
   "metadata": {},
   "source": [
    "### Question 27. How to Reverse a String in Python?"
   ]
  },
  {
   "cell_type": "raw",
   "id": "ee6d0f65-d941-4486-a973-bfd0d0ae4f2f",
   "metadata": {},
   "source": [
    "In Python, there are no in-built functions that help us reverse a string. We need to make use of an array slicing operation for the same."
   ]
  },
  {
   "cell_type": "code",
   "execution_count": 20,
   "id": "1a7e365f-5f70-40d6-8d30-4770b68921f0",
   "metadata": {},
   "outputs": [],
   "source": [
    "stri = \"Ishika\""
   ]
  },
  {
   "cell_type": "code",
   "execution_count": 21,
   "id": "f4b7f676-752d-49ff-b109-b8584db4c1f4",
   "metadata": {},
   "outputs": [
    {
     "data": {
      "text/plain": [
       "'akihsI'"
      ]
     },
     "execution_count": 21,
     "metadata": {},
     "output_type": "execute_result"
    }
   ],
   "source": [
    "stri[::-1]"
   ]
  },
  {
   "cell_type": "markdown",
   "id": "fedbc7a3-e6ca-45e7-bf98-4e8068602d8f",
   "metadata": {},
   "source": [
    "### Question 28. What do you understand about the lambda function? Create a lambda function which will print the sum of all the elements in this list -> [5, 8, 10, 20, 50, 100]"
   ]
  },
  {
   "cell_type": "raw",
   "id": "252b9e1d-214e-46a9-9e64-0231a7dd90d0",
   "metadata": {},
   "source": [
    "Lambda functions are anonymous functions in Python. They are defined using the keyword lambda. Lambda functions can take any number of arguments, but they can only have one expression."
   ]
  },
  {
   "cell_type": "code",
   "execution_count": 22,
   "id": "d75d7cd4-b60d-4d89-9197-5ceb3f9355e5",
   "metadata": {},
   "outputs": [
    {
     "name": "stdout",
     "output_type": "stream",
     "text": [
      "150\n"
     ]
    }
   ],
   "source": [
    "from functools import reduce\n",
    "sequence = [10,20,30,40,50]\n",
    "sum = reduce(lambda x,y : x+y,sequence)\n",
    "print(sum)"
   ]
  },
  {
   "cell_type": "markdown",
   "id": "6dc0dcf8-8c33-486e-a8c4-8a61b69cc8b2",
   "metadata": {},
   "source": [
    "### Question 29. How to remove spaces from a string in Python?"
   ]
  },
  {
   "cell_type": "raw",
   "id": "ddbfc7af-379c-44ea-9e1c-b92b6609376b",
   "metadata": {},
   "source": [
    "Spaces can be removed from a string in python by using strip() or replace() functions. Strip() function is used to remove the leading and trailing white spaces while the replace() function is used to remove all the white spaces in the string:"
   ]
  },
  {
   "cell_type": "code",
   "execution_count": 23,
   "id": "27eca6c7-d9e1-4eb5-a5e2-0f99eadce23b",
   "metadata": {},
   "outputs": [
    {
     "data": {
      "text/plain": [
       "'Ishikakataria'"
      ]
     },
     "execution_count": 23,
     "metadata": {},
     "output_type": "execute_result"
    }
   ],
   "source": [
    "st = \"Ishika  kataria\"\n",
    "st.replace(\" \",\"\")"
   ]
  },
  {
   "cell_type": "markdown",
   "id": "a09bf240-7066-40e5-b913-afea93285916",
   "metadata": {},
   "source": [
    "### Question 30.  What is pickling and unpickling?"
   ]
  },
  {
   "cell_type": "raw",
   "id": "e687b269-d823-4098-8c08-c152819c3357",
   "metadata": {},
   "source": [
    "Pickling is the process of converting a Python object hierarchy into a byte stream for storing it into a database. It is also known as serialization. Unpickling is the reverse of pickling. The byte stream is converted back into an object hierarchy."
   ]
  },
  {
   "cell_type": "markdown",
   "id": "364a7427-784b-49e3-9479-23c68a5a0a26",
   "metadata": {},
   "source": [
    "### Question 31. What are Dict and List comprehensions?"
   ]
  },
  {
   "cell_type": "raw",
   "id": "49919394-9913-4c66-b306-3bcf81f0811d",
   "metadata": {},
   "source": [
    "List comprehensions provide a more compact and elegant way to create lists than for-loops, and also a new list can be created from existing lists."
   ]
  },
  {
   "cell_type": "code",
   "execution_count": 24,
   "id": "a197b0f3-ea41-4b4d-942d-f9f383176043",
   "metadata": {},
   "outputs": [
    {
     "data": {
      "text/plain": [
       "[4, 16, 36, 64]"
      ]
     },
     "execution_count": 24,
     "metadata": {},
     "output_type": "execute_result"
    }
   ],
   "source": [
    "# example \n",
    "[i**2 for i in range(1,10) if i%2==0]"
   ]
  },
  {
   "cell_type": "raw",
   "id": "c243220a-c8b1-432b-8d50-ba1fab4293d8",
   "metadata": {},
   "source": [
    "Dictionary comprehensions provide a more compact and elegant way to create a dictionary, and also, a new dictionary can be created from existing dictionaries."
   ]
  },
  {
   "cell_type": "code",
   "execution_count": 26,
   "id": "6d56cfff-af23-4ac3-ad1f-6ab112babdb0",
   "metadata": {},
   "outputs": [
    {
     "data": {
      "text/plain": [
       "{0: 0, 1: 2, 2: 4, 3: 6, 4: 8}"
      ]
     },
     "execution_count": 26,
     "metadata": {},
     "output_type": "execute_result"
    }
   ],
   "source": [
    "# example\n",
    "dict([(i, i*2) for i in range(5)])"
   ]
  },
  {
   "cell_type": "markdown",
   "id": "be07e3d2-67ed-4c11-91a9-84122f63c36b",
   "metadata": {},
   "source": [
    "### Question 32. How can you find the minimum and maximum values present in a tuple?"
   ]
  },
  {
   "cell_type": "raw",
   "id": "f74f95c8-386f-4617-b96b-a41310895426",
   "metadata": {},
   "source": [
    "We can use the min() function on top of the tuple to find out the minimum value present in the tuple:"
   ]
  },
  {
   "cell_type": "code",
   "execution_count": 27,
   "id": "bf5bb303-f2bd-492c-9054-f9d812c0bca6",
   "metadata": {},
   "outputs": [
    {
     "name": "stdout",
     "output_type": "stream",
     "text": [
      "1\n"
     ]
    }
   ],
   "source": [
    "tup_1 = (1,2,3,4,5)\n",
    "print(min(tup_1))"
   ]
  },
  {
   "cell_type": "raw",
   "id": "86e6e537-c5c2-4aff-a188-b19ae6a2315b",
   "metadata": {},
   "source": [
    "max() function, which will help us to find out the maximum value present in the tuple:"
   ]
  },
  {
   "cell_type": "code",
   "execution_count": 28,
   "id": "80b1a537-c6d8-48ad-a8eb-e74b2ce0b071",
   "metadata": {},
   "outputs": [
    {
     "data": {
      "text/plain": [
       "5"
      ]
     },
     "execution_count": 28,
     "metadata": {},
     "output_type": "execute_result"
    }
   ],
   "source": [
    "max(tup_1)"
   ]
  },
  {
   "cell_type": "markdown",
   "id": "55ec510d-8dad-4855-b394-4a7861e08cb8",
   "metadata": {},
   "source": [
    "### Question 33. If you have a list like this -> [1,”a”,2,”b”,3,”c”]. How can you access the 2nd, 4th and 5th elements from this list?"
   ]
  },
  {
   "cell_type": "raw",
   "id": "b3993ebc-fbdb-41dc-9915-f6542c362c73",
   "metadata": {},
   "source": [
    "We will start off by creating a tuple that will comprise the indices of elements that we want to access.\n",
    "\n",
    "Then, we will use a for loop to go through the index values and print them out."
   ]
  },
  {
   "cell_type": "code",
   "execution_count": 30,
   "id": "30050a74-7c92-4ab7-a10f-f5405dcb8f37",
   "metadata": {},
   "outputs": [
    {
     "name": "stdout",
     "output_type": "stream",
     "text": [
      "[1]\n",
      "[3]\n",
      "[4]\n"
     ]
    }
   ],
   "source": [
    "indices=(1,3,4)\n",
    "for i in indices:\n",
    "    print([i])"
   ]
  },
  {
   "cell_type": "markdown",
   "id": "6a222481-b50e-4d35-ba82-0f2971f7e65e",
   "metadata": {},
   "source": [
    "### Question 34. If you have dictionary like this – > fruit={“Apple”:10,”Orange”:20,”Banana”:30,”Guava”:40}. How would you update the value of ‘Apple’ from 10 to 100?"
   ]
  },
  {
   "cell_type": "code",
   "execution_count": 32,
   "id": "04907ecf-c961-44be-9e11-2e1089eabd6b",
   "metadata": {},
   "outputs": [],
   "source": [
    "fruit={\"Apple\":10,\"Orange\":20,\"Banana\":30,\"Guava\":40}"
   ]
  },
  {
   "cell_type": "code",
   "execution_count": 33,
   "id": "1d87ca00-1a9c-429d-8d0a-755462d28915",
   "metadata": {},
   "outputs": [],
   "source": [
    "fruit[\"Apple\"]=100"
   ]
  },
  {
   "cell_type": "code",
   "execution_count": 35,
   "id": "61837b2e-8ea0-46db-8981-05865866baf5",
   "metadata": {},
   "outputs": [
    {
     "data": {
      "text/plain": [
       "{'Apple': 100, 'Orange': 20, 'Banana': 30, 'Guava': 40}"
      ]
     },
     "execution_count": 35,
     "metadata": {},
     "output_type": "execute_result"
    }
   ],
   "source": [
    "fruit"
   ]
  },
  {
   "cell_type": "markdown",
   "id": "2a3c6e40-6e8e-49da-82cd-dcb303ca651e",
   "metadata": {},
   "source": [
    "### Question 35. If you have two sets like this -> s1 = {1,2,3,4,5,6}, s2 = {5,6,7,8,9}. How would you find the common elements in these sets."
   ]
  },
  {
   "cell_type": "raw",
   "id": "ab4ed96a-0044-4062-8a72-869d8795ebc0",
   "metadata": {},
   "source": [
    "Intersection can be used to find the common between two sets."
   ]
  },
  {
   "cell_type": "code",
   "execution_count": 36,
   "id": "3f34b88e-e7d1-4e3a-bb82-37b815b4c733",
   "metadata": {},
   "outputs": [
    {
     "data": {
      "text/plain": [
       "{5, 6}"
      ]
     },
     "execution_count": 36,
     "metadata": {},
     "output_type": "execute_result"
    }
   ],
   "source": [
    "s1 = {1,2,3,4,5,6}\n",
    "s2 = {5,6,7,8,9}\n",
    "s1.intersection(s2)"
   ]
  },
  {
   "cell_type": "markdown",
   "id": "acdd5e1f-49c1-4bf9-a299-b5ee9eaf29c2",
   "metadata": {},
   "source": [
    "### Question 36. Write a program to print out the 2-table using while loop."
   ]
  },
  {
   "cell_type": "code",
   "execution_count": 38,
   "id": "972339d2-8802-41bf-b79b-12ead55fa58d",
   "metadata": {},
   "outputs": [
    {
     "name": "stdout",
     "output_type": "stream",
     "text": [
      "2 * 1 = 2\n",
      "2 * 2 = 4\n",
      "2 * 3 = 6\n",
      "2 * 4 = 8\n",
      "2 * 5 = 10\n",
      "2 * 6 = 12\n",
      "2 * 7 = 14\n",
      "2 * 8 = 16\n",
      "2 * 9 = 18\n",
      "2 * 10 = 20\n"
     ]
    }
   ],
   "source": [
    "i = 1\n",
    "n = 2\n",
    "while i<=10:\n",
    "    print(n,'*',i,'=',n*i)\n",
    "    i = i+1"
   ]
  },
  {
   "cell_type": "raw",
   "id": "a211cc33-a2fa-4a28-8445-8f345691f9a8",
   "metadata": {},
   "source": [
    "We start off by initializing two variables ‘i’ and ‘n’. ‘i’ is initialized to 1 and ‘n’ is initialized to ‘2’.\n",
    "\n",
    "Inside the while loop, since the ‘i’ value goes from 1 to 10, the loop iterates 10 times.\n",
    "\n",
    "Initially n*i is equal to 2*1, and we print out the value.\n",
    "\n",
    "Then, ‘i’ value is incremented and n*i becomes 2*2. We go ahead and print it out.\n",
    "\n",
    "This process goes on until i value becomes 10."
   ]
  },
  {
   "cell_type": "markdown",
   "id": "90cda8fd-6d72-41d4-a677-33ebc8505699",
   "metadata": {},
   "source": [
    "### Question 37. Write a function, which will take in a value and print out if it is even or odd."
   ]
  },
  {
   "cell_type": "code",
   "execution_count": 39,
   "id": "023e2521-f5ff-4f58-9d2f-f700a0bc515c",
   "metadata": {},
   "outputs": [],
   "source": [
    "def even_odd(num):\n",
    "    if num%2==0:\n",
    "        print(\"Even\")\n",
    "    else:\n",
    "        print(\"odd\")"
   ]
  },
  {
   "cell_type": "code",
   "execution_count": 41,
   "id": "fc005ed1-65b4-41ad-94dd-abcaf5c6f848",
   "metadata": {},
   "outputs": [
    {
     "name": "stdout",
     "output_type": "stream",
     "text": [
      "Even\n"
     ]
    }
   ],
   "source": [
    "even_odd(200)"
   ]
  },
  {
   "cell_type": "code",
   "execution_count": 42,
   "id": "7b240049-fb64-4b1a-9468-06d5aed346b8",
   "metadata": {},
   "outputs": [
    {
     "name": "stdout",
     "output_type": "stream",
     "text": [
      "odd\n"
     ]
    }
   ],
   "source": [
    "even_odd(89)"
   ]
  },
  {
   "cell_type": "raw",
   "id": "63b49937-8dbe-45be-9964-684e6c71db79",
   "metadata": {},
   "source": [
    "Here, we start off by creating a method, with the name ‘even_odd()’. This function takes a single parameter and prints out if the number taken is even or odd."
   ]
  },
  {
   "cell_type": "markdown",
   "id": "e27328d9-e314-4b0e-b452-5a1b1a0edcb4",
   "metadata": {},
   "source": [
    "### Question 38. Write a python program to print the factorial of a number."
   ]
  },
  {
   "cell_type": "code",
   "execution_count": 50,
   "id": "db70edbb-f8b4-4ece-92e2-dbfb8334d807",
   "metadata": {},
   "outputs": [
    {
     "name": "stdin",
     "output_type": "stream",
     "text": [
      "Enter a number: 5\n"
     ]
    },
    {
     "name": "stdout",
     "output_type": "stream",
     "text": [
      "Factorial of 5 is 120\n"
     ]
    }
   ],
   "source": [
    "num = int(input(\"Enter a number:\"))\n",
    "if num < 0:\n",
    "    print(\"Factorial is not defined for negative numbers.\")\n",
    "else:\n",
    "    fact = 1 \n",
    "    for i in range(1,num+1):\n",
    "        fact*=i\n",
    "    print(\"Factorial of\", num, \"is\", fact)"
   ]
  },
  {
   "cell_type": "markdown",
   "id": "46eba886-38c0-41c7-91b0-1e4f2d94760f",
   "metadata": {},
   "source": [
    "### Question 39. Write a python program to check if the number given is a palindrome or not."
   ]
  },
  {
   "cell_type": "code",
   "execution_count": 54,
   "id": "4f3cb743-f242-4ff0-b22c-81bb4323f930",
   "metadata": {},
   "outputs": [
    {
     "name": "stdin",
     "output_type": "stream",
     "text": [
      "Enter a number: nitin\n"
     ]
    },
    {
     "name": "stdout",
     "output_type": "stream",
     "text": [
      "nitin is palindrome\n"
     ]
    }
   ],
   "source": [
    "str = input(\"Enter a number:\")\n",
    "straight_str = str\n",
    "reverse_str = str[::-1]\n",
    "if straight_str==reverse_str:\n",
    "    print(str,\"is palindrome\")\n",
    "else:\n",
    "    print(str,\"is not palindrome\")"
   ]
  },
  {
   "cell_type": "markdown",
   "id": "35b70d61-45ac-4ed2-b83e-29e88e6ad1c4",
   "metadata": {},
   "source": [
    "### Question 40. Write a python program to print the following pattern ->\n",
    "1\r\n",
    "\r\n",
    "2 2\r\n",
    "\r\n",
    "3 3 3\r\n",
    "\r\n",
    "4 4 4 4\r\n",
    "\r\n",
    "5 5 5 5 5"
   ]
  },
  {
   "cell_type": "code",
   "execution_count": 61,
   "id": "d579697f-8b1b-48b6-890c-20d615ada8ac",
   "metadata": {},
   "outputs": [
    {
     "name": "stdout",
     "output_type": "stream",
     "text": [
      "1\n",
      "2 2\n",
      "3 3 3\n",
      "4 4 4 4\n",
      "5 5 5 5 5\n"
     ]
    }
   ],
   "source": [
    "rows = 5\n",
    "# Loop through each row\n",
    "for i in range(1, rows + 1):\n",
    "    # Print the number i, repeated i times\n",
    "    print(*[i]*i)"
   ]
  },
  {
   "cell_type": "raw",
   "id": "a1168289-4ed4-4e70-b903-66cc5c199b1b",
   "metadata": {},
   "source": [
    "[i]: This creates a list containing a single element, which is the value of i at that iteration of the loop.\n",
    "\n",
    "[i]*i: This multiplies the list [i] by i, which creates a new list where the element i is repeated i times. For example, if i is 3, then [i]*i results in [3, 3, 3].\n",
    "\n",
    "*: This is the unpacking operator in Python. When used with the print() function, it unpacks the elements of a list and passes them as individual arguments to the function."
   ]
  },
  {
   "cell_type": "code",
   "execution_count": 62,
   "id": "82edc438-6ac2-4e0f-aaa1-dd19b8a0c5fc",
   "metadata": {},
   "outputs": [
    {
     "name": "stdout",
     "output_type": "stream",
     "text": [
      "\n",
      "\n",
      "1 \n",
      "\n",
      "2 2 \n",
      "\n",
      "3 3 3 \n",
      "\n",
      "4 4 4 4 \n",
      "\n",
      "5 5 5 5 5 \n",
      "\n"
     ]
    }
   ],
   "source": [
    "# different approach for the same\n",
    "for num in range(6):\n",
    "    for i in range(num):\n",
    "        print(num,end=\" \")\n",
    "    #new line after each row to display pattern correctly\n",
    "    print(\"\\n\")"
   ]
  },
  {
   "cell_type": "markdown",
   "id": "f35a5e98-c775-4973-b75e-426626f89da0",
   "metadata": {},
   "source": [
    "### Question 41. Pattern questions. Print the following pattern# # # # #"
   ]
  },
  {
   "cell_type": "raw",
   "id": "8f483ce1-f819-4411-9c52-7c1ef1a95c5b",
   "metadata": {},
   "source": [
    "#\n",
    "\n",
    "# #\n",
    "\n",
    "# # #\n",
    "\n",
    "# # # #\n",
    "\n",
    "# # # # #"
   ]
  },
  {
   "cell_type": "code",
   "execution_count": 66,
   "id": "0a9eb9da-9a3c-4ed6-9821-9afe59e7223a",
   "metadata": {},
   "outputs": [
    {
     "name": "stdout",
     "output_type": "stream",
     "text": [
      "\n",
      "#\n",
      "##\n",
      "###\n",
      "####\n",
      "#####\n"
     ]
    }
   ],
   "source": [
    "for i in range(6):\n",
    "    print(\"#\"*i)"
   ]
  },
  {
   "cell_type": "markdown",
   "id": "a2eddabb-391b-4894-9c62-cff1508c8006",
   "metadata": {},
   "source": [
    "### Question 42. Print the following pattern."
   ]
  },
  {
   "cell_type": "raw",
   "id": "70a42580-1829-4b40-a164-2ddca248e839",
   "metadata": {},
   "source": [
    "        # \n",
    "\n",
    "      # # \n",
    "\n",
    "    # # # \n",
    "\n",
    "  # # # #\n",
    "\n",
    "# # # # #"
   ]
  },
  {
   "cell_type": "code",
   "execution_count": 69,
   "id": "399e7c38-1244-44be-87b1-2b1e7ab01074",
   "metadata": {},
   "outputs": [
    {
     "name": "stdin",
     "output_type": "stream",
     "text": [
      "Enter the number of rows:  5\n"
     ]
    },
    {
     "name": "stdout",
     "output_type": "stream",
     "text": [
      "        # \n",
      "      # # \n",
      "    # # # \n",
      "  # # # # \n",
      "# # # # # \n"
     ]
    }
   ],
   "source": [
    "# Input the number of rows from the user\n",
    "rows = int(input(\"Enter the number of rows: \"))\n",
    "\n",
    "# Loop through each row\n",
    "for i in range(1, rows + 1):\n",
    "    # Print spaces to create the pyramid shape\n",
    "    print(\"  \" * (rows - i), end=\"\")\n",
    "    # Print '#' repeated 'i' times\n",
    "    print(\"# \" * i)"
   ]
  },
  {
   "cell_type": "markdown",
   "id": "5cb7c159-ed82-4ecf-9171-88982fb51297",
   "metadata": {},
   "source": [
    "### If you have a dictionary like this -> d1={“k1″:10,”k2″:20,”k3”:30}. How would you increment values of all the keys ?"
   ]
  },
  {
   "cell_type": "code",
   "execution_count": 73,
   "id": "b52aff01-3ca1-4319-b9b9-f22918113945",
   "metadata": {},
   "outputs": [
    {
     "name": "stdout",
     "output_type": "stream",
     "text": [
      "{'k1': 11, 'k2': 21, 'k3': 31}\n"
     ]
    }
   ],
   "source": [
    "d1={\"k1\":10,\"k2\":20,\"k3\":30}\n",
    "\n",
    "for i in d1:\n",
    "    d1[i]=d1[i]+1\n",
    "\n",
    "print(d1)"
   ]
  },
  {
   "cell_type": "markdown",
   "id": "8c7c155e-de37-4dc0-8e04-cb457a68f6da",
   "metadata": {},
   "source": [
    "### Question 42. How can you get a random number in python?"
   ]
  },
  {
   "cell_type": "code",
   "execution_count": 74,
   "id": "4fcc8349-7919-47fe-b2b6-17a75eab5667",
   "metadata": {},
   "outputs": [
    {
     "name": "stdout",
     "output_type": "stream",
     "text": [
      "0.7882610441282499\n"
     ]
    }
   ],
   "source": [
    "import random\n",
    "n=random.random()\n",
    "print(n)"
   ]
  },
  {
   "cell_type": "markdown",
   "id": "e525aacd-fdd9-4d21-8426-41900e8a3cf8",
   "metadata": {},
   "source": [
    "### Question 43. Briefly explain about Break, Pass and Continue statements in Python ? "
   ]
  },
  {
   "cell_type": "raw",
   "id": "17100034-0f30-4fdc-ae47-9c13e8840da0",
   "metadata": {},
   "source": [
    "Break: When we use a break statement in a python code/program it immediately breaks/terminates the loop and the control flow is given back to the statement after the body of the loop.\n",
    "\n",
    "Continue: When we use a continue statement in a python code/program it immediately breaks/terminates the current iteration of the statement and also skips the rest of the program in the current iteration and controls flows to the next iteration of the loop.\n",
    "\n",
    "Pass: When we use a pass statement in a python code/program it fills up the empty spots in the program."
   ]
  },
  {
   "cell_type": "markdown",
   "id": "35911a71-90bc-4170-a392-77d3273dc370",
   "metadata": {},
   "source": [
    "### Question 44. How do you count the occurrences of a particular element in the list ?"
   ]
  },
  {
   "cell_type": "code",
   "execution_count": 78,
   "id": "ba8fa8ee-6bd7-4e4d-b6d4-8799a44a0019",
   "metadata": {},
   "outputs": [
    {
     "name": "stdout",
     "output_type": "stream",
     "text": [
      "1\n"
     ]
    }
   ],
   "source": [
    "fruits = ['apple', 'orange', 'mango', 'papaya', 'guava']\n",
    "print(fruits.count('apple'))"
   ]
  },
  {
   "cell_type": "markdown",
   "id": "e7c0de5f-c4d5-4c31-bb3f-96280b72e3ad",
   "metadata": {},
   "source": [
    "### Question 45. What is the difference between a list and a tuple in Python?"
   ]
  },
  {
   "cell_type": "raw",
   "id": "4af61719-9cad-44b4-b517-ce90c3b43afb",
   "metadata": {},
   "source": [
    "A list is a mutable data type, meaning it can be modified after it is created. A tuple is immutable, meaning it cannot be modified after it is created. This makes tuples faster and safer than lists, as they cannot be modified by other parts of the code accidentally."
   ]
  },
  {
   "cell_type": "markdown",
   "id": "723bfe49-f5e7-442b-8ca9-d095ad1d878b",
   "metadata": {},
   "source": [
    "### Question 46. How do you sort a list in Python?"
   ]
  },
  {
   "cell_type": "code",
   "execution_count": 80,
   "id": "29189b42-fcea-4992-b4db-81f130ecd2a8",
   "metadata": {},
   "outputs": [
    {
     "name": "stdout",
     "output_type": "stream",
     "text": [
      "[1, 2, 3, 4]\n"
     ]
    }
   ],
   "source": [
    "my_list = [3, 4, 1, 2]\n",
    "my_list.sort()\n",
    "print(my_list)"
   ]
  }
 ],
 "metadata": {
  "kernelspec": {
   "display_name": "Python 3 (ipykernel)",
   "language": "python",
   "name": "python3"
  },
  "language_info": {
   "codemirror_mode": {
    "name": "ipython",
    "version": 3
   },
   "file_extension": ".py",
   "mimetype": "text/x-python",
   "name": "python",
   "nbconvert_exporter": "python",
   "pygments_lexer": "ipython3",
   "version": "3.12.0"
  }
 },
 "nbformat": 4,
 "nbformat_minor": 5
}
