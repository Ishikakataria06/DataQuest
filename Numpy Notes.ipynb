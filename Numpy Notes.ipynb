{
 "cells": [
  {
   "cell_type": "markdown",
   "id": "f70189bc-fd45-47d7-ba5c-9b6c73faf1f6",
   "metadata": {},
   "source": [
    "# Numpy, Pandas and Visualization [NPV]"
   ]
  },
  {
   "cell_type": "markdown",
   "id": "3fe87882-aa27-4087-9478-144b14ce23b1",
   "metadata": {},
   "source": [
    "## Numpy"
   ]
  },
  {
   "cell_type": "markdown",
   "id": "31afaa96-1525-4c59-b2a1-272627ea29bb",
   "metadata": {},
   "source": [
    "#### NumPy is a Python library that is used for mathematical and scientific computations, which contains multi-dimensional array and matrices. With NumPy, you can perform various mathematical operations on arrays easily, like adding, subtracting, multiplying, and dividing elements, as well as more advanced operations like matrix multiplication. It's widely used in scientific computing, data analysis, and machine learning because it's fast and powerful for handling large amounts of numerical data."
   ]
  },
  {
   "cell_type": "code",
   "execution_count": 1,
   "id": "376c4a77-02da-4a57-94f2-eebf4dbf9a6e",
   "metadata": {},
   "outputs": [
    {
     "name": "stdout",
     "output_type": "stream",
     "text": [
      "Requirement already satisfied: numpy in c:\\users\\126623\\appdata\\local\\programs\\python\\python312\\lib\\site-packages (1.26.3)\n"
     ]
    }
   ],
   "source": [
    "# To install NumPy using pip:\n",
    "! pip install numpy"
   ]
  },
  {
   "cell_type": "code",
   "execution_count": 2,
   "id": "64f91ed2-cff5-48ad-8cb0-4de7e0730605",
   "metadata": {},
   "outputs": [],
   "source": [
    "# To import Numpy:\n",
    "import numpy as np"
   ]
  },
  {
   "cell_type": "markdown",
   "id": "56a7c288-3c1a-4571-abe9-22bdb39185a5",
   "metadata": {},
   "source": [
    "### What are NumPy Arrays?"
   ]
  },
  {
   "cell_type": "markdown",
   "id": "ffa1533c-3e4d-4130-b955-fe3d68b446fe",
   "metadata": {},
   "source": [
    "* A numpy array looks similar to a list\n",
    "* An array is a grid of values, indexed by a tuple of positive integers.\n",
    "* It usually contains numeric values. However it can contain string values too.\n",
    "* An array can be n-dimensional."
   ]
  },
  {
   "cell_type": "markdown",
   "id": "3c180465-a08b-4055-a004-e4237e0cdb2d",
   "metadata": {},
   "source": [
    "* While working with NumPy for data science, mostly we have to deal with NumPy arrays.These are generally of three types :\n",
    "1. 1D Array (One-dimensional array/Vectors):\n",
    "  * Also called a flat array.\n",
    "  * \n",
    "Elements are arranged in a single row or column\n",
    "  * \r\n",
    "It's like a list of elements stored in a linear sequenc\n",
    "  * .\r\n",
    "Example: [1, 2, 3, 4, 5]"
   ]
  },
  {
   "cell_type": "markdown",
   "id": "5bef5aaf-88f5-4fbc-8ee2-78c04c2e3cde",
   "metadata": {},
   "source": [
    "2. 2D Array (Two-dimensional array/Matrix):\n",
    "   * Elements are arranged in rows and columns, forming a grid-like structure.\n",
    "   * It's like a table with rows and columns.\n",
    "   * Each element is accessed using two indices: row index and column index., 9]]"
   ]
  },
  {
   "cell_type": "code",
   "execution_count": 3,
   "id": "d04475d9-4643-48f9-90ae-f2e86eb97ce2",
   "metadata": {},
   "outputs": [
    {
     "data": {
      "text/plain": [
       "[[1, 2, 3], [4, 5, 6], [7, 8, 9]]"
      ]
     },
     "execution_count": 3,
     "metadata": {},
     "output_type": "execute_result"
    }
   ],
   "source": [
    "# example of 2-D Array:\n",
    "[[1, 2, 3],\n",
    " [4, 5, 6],\n",
    " [7, 8, 9]]"
   ]
  },
  {
   "cell_type": "markdown",
   "id": "f04cb62c-a27f-4f9c-b2d2-7fe549939e21",
   "metadata": {},
   "source": [
    "3. 3D Array (Three-dimensional array/3-D tensor):\n",
    "* Elements are arranged in a three-dimensional space, forming a cuboid-like structure.\n",
    "* It's like a collection of 2D arrays stacked together.\n",
    "* Each element is accessed using three indices: depth index, row index, and column index.:"
   ]
  },
  {
   "cell_type": "code",
   "execution_count": 4,
   "id": "dc5a5a96-747a-477c-83ca-45558b2ec661",
   "metadata": {},
   "outputs": [
    {
     "data": {
      "text/plain": [
       "[[[1, 2], [3, 4]], [[5, 6], [7, 8]]]"
      ]
     },
     "execution_count": 4,
     "metadata": {},
     "output_type": "execute_result"
    }
   ],
   "source": [
    "# example of 3-D array\n",
    "[[[1, 2],\n",
    "  [3, 4]],\n",
    " \n",
    " [[5, 6],\n",
    "  [7, 8]]]\n"
   ]
  },
  {
   "cell_type": "markdown",
   "id": "765e3757-e409-4d5a-a64f-6f31513dc7e2",
   "metadata": {},
   "source": [
    "#### Limitations of traditional Python data structures:\n",
    "* Slow for numbers: Regular lists and other structures are slow when dealing with lots of numbers.\n",
    "* Waste memory: They might use more memory than needed when storing numbers.\n",
    "* Not good for math: They're not designed for doing lots of math quickly.\n",
    "* Mixing types is messy: They can handle different types of data, which isn't ideal for math-heavy tasks."
   ]
  },
  {
   "cell_type": "markdown",
   "id": "e23e98a0-e0ac-47e5-b296-c94153535f15",
   "metadata": {},
   "source": [
    "#### Why arrays came into action:\n",
    "* Save space: Arrays use memory more efficiently, so they're better for storing lots of numbers.\n",
    "* Stick to one type: Arrays only deal with one type of data, making them faster for math.\n",
    "* Math made easy: Arrays let you do lots of math really quickly and easily.\n",
    "* Specialized tools: Arrays are the foundation for special tools like NumPy, which make doing math in Python super fast and powerful.\r\n",
    "\r\n",
    "\r\n"
   ]
  },
  {
   "cell_type": "markdown",
   "id": "84141162-526f-4701-8296-2dbe2f4a42a4",
   "metadata": {},
   "source": [
    "#### Creating array from a list "
   ]
  },
  {
   "cell_type": "markdown",
   "id": "6bd7e811-52eb-4031-a461-b1bf33ea5ed1",
   "metadata": {},
   "source": [
    "* np.array(list) is used to convert list into array."
   ]
  },
  {
   "cell_type": "code",
   "execution_count": 5,
   "id": "9cd7324c-3935-41b1-85d3-0ef183a68f3f",
   "metadata": {},
   "outputs": [
    {
     "name": "stdout",
     "output_type": "stream",
     "text": [
      "[23, 45, 67, 21, 89]\n",
      "<class 'list'>\n"
     ]
    }
   ],
   "source": [
    "l = [23,45,67,21,89]\n",
    "print(l)\n",
    "print(type(l))"
   ]
  },
  {
   "cell_type": "code",
   "execution_count": 6,
   "id": "c8b0116d-9cbb-4ab4-bad2-30d83bda68bb",
   "metadata": {},
   "outputs": [
    {
     "name": "stdout",
     "output_type": "stream",
     "text": [
      "[23 45 67 21 89]\n",
      "<class 'numpy.ndarray'>\n"
     ]
    }
   ],
   "source": [
    "ar = np.array(l)\n",
    "print(ar)\n",
    "print(type(ar))"
   ]
  },
  {
   "cell_type": "code",
   "execution_count": 7,
   "id": "b2b45ff5-3637-43e6-b197-aeb3cfbef65d",
   "metadata": {},
   "outputs": [
    {
     "name": "stdout",
     "output_type": "stream",
     "text": [
      "[45 56 67 78 90 60 76 47 83 39 41 50]\n",
      "<class 'numpy.ndarray'>\n"
     ]
    }
   ],
   "source": [
    "# Ques: Create a list of weight of 12 people. Convert the list to array and check the data type\n",
    "weight_list = [45,56,67,78,90,60,76,47,83,39,41,50]\n",
    "weight_array = np.array(weight_list)\n",
    "print(weight_array)\n",
    "print(type(weight_array))"
   ]
  },
  {
   "cell_type": "code",
   "execution_count": 8,
   "id": "54df5ce3-c880-4209-8bfc-ef08abfae69d",
   "metadata": {},
   "outputs": [
    {
     "name": "stdout",
     "output_type": "stream",
     "text": [
      "['hello' '78' '12.23' 'True' '(8+5j)']\n"
     ]
    }
   ],
   "source": [
    "# Ques: Convert the list ['hello',78,12.23,True,8+5j] to array and check the datatype of the \n",
    "# elements. Remove 'hello' and check the datatype again.\n",
    "li = ['hello',78,12.23,True,8+5j]\n",
    "li_array = np.array(li)\n",
    "print(li_array)"
   ]
  },
  {
   "cell_type": "markdown",
   "id": "674b99cb-ae81-4063-bb79-edef365807ab",
   "metadata": {},
   "source": [
    "* We know that arrays are Homogenous in nature and here the list li is hetrogenous in nature.\n",
    "* When we convert the list li into an array the elements in the list convert into the string which make the array homogenous in nature.\n",
    "* Hetrogenous array conversion sequence:\n",
    "* String > Complex > Float > Integer > Boolean"
   ]
  },
  {
   "cell_type": "markdown",
   "id": "b189e006-ff99-4329-8d72-e5300b5e5723",
   "metadata": {},
   "source": [
    "#### Creating the numpy array of random numbers \n",
    "#### (.random(),.randn(),.randint())"
   ]
  },
  {
   "cell_type": "markdown",
   "id": "5cf52d27-55ac-4ba2-9836-51cbefebe460",
   "metadata": {},
   "source": [
    "* numpy.random.random(): This function creates an array of the given shape and fills it with random samples from a uniform distribution over [0, 1).\r\n"
   ]
  },
  {
   "cell_type": "code",
   "execution_count": 9,
   "id": "ab061f78-68c6-4da3-ac0d-6f741065f75c",
   "metadata": {},
   "outputs": [
    {
     "name": "stdout",
     "output_type": "stream",
     "text": [
      "[0.5884066  0.18939262 0.16072895 0.66139872 0.94449646]\n"
     ]
    }
   ],
   "source": [
    "# Crrating a 1D array of 5 elements between 0 and 1 \n",
    "random_array = np.random.random(5)\n",
    "print(random_array)"
   ]
  },
  {
   "cell_type": "markdown",
   "id": "f82e8a4e-2bb4-4caf-ac21-60fb40e7c940",
   "metadata": {},
   "source": [
    "* numpy.random.randn(): This function creates an array of the given shape and fills it with random samples from a standard normal distribution (mean=0, standard deviation=1)."
   ]
  },
  {
   "cell_type": "code",
   "execution_count": 10,
   "id": "f0c4dd4d-2481-486f-a0da-a8ebdefdbd76",
   "metadata": {},
   "outputs": [
    {
     "name": "stdout",
     "output_type": "stream",
     "text": [
      "[-1.40686204 -2.50954109  0.8915289   0.85708655  0.12581126]\n"
     ]
    }
   ],
   "source": [
    "# Creating a 1D array of 5 random numbers from a standard normal distribution \n",
    "normal_array = np.random.randn(5)\n",
    "print(normal_array)"
   ]
  },
  {
   "cell_type": "markdown",
   "id": "036617a0-dcf8-4b28-9921-c8a75f46bf7f",
   "metadata": {},
   "source": [
    "* numpy.random.randint(): This function returns random integers from low (inclusive) to high (exclusive) with a specified shape."
   ]
  },
  {
   "cell_type": "code",
   "execution_count": 11,
   "id": "eb626f3a-66bf-4c36-9049-4d8c0e22e062",
   "metadata": {},
   "outputs": [
    {
     "name": "stdout",
     "output_type": "stream",
     "text": [
      "[7 4 1 5 2]\n"
     ]
    }
   ],
   "source": [
    "# creating a 1D array of 5 random intergers between 0 and 9 \n",
    "randint_array = np.random.randint(0,10,size=5)\n",
    "print(randint_array)"
   ]
  },
  {
   "cell_type": "markdown",
   "id": "8d0860be-3ed0-46fd-8892-f5d3543250bd",
   "metadata": {},
   "source": [
    "#### Creating array from np.arange(),np.linspace()"
   ]
  },
  {
   "cell_type": "markdown",
   "id": "d16f4fe4-d9db-403c-ba8c-b15b9c89844e",
   "metadata": {},
   "source": [
    "* np.arange(): This function creates an array containing evenly spaced values within a given range."
   ]
  },
  {
   "cell_type": "markdown",
   "id": "00e9586f-939f-44b1-baf4-72f3ef8ab634",
   "metadata": {},
   "source": [
    "                         syntax : (start,stop,step)"
   ]
  },
  {
   "cell_type": "code",
   "execution_count": 12,
   "id": "86512650-d632-48b4-b978-f9b0441cc0ac",
   "metadata": {},
   "outputs": [
    {
     "name": "stdout",
     "output_type": "stream",
     "text": [
      "[  0  10  20  30  40  50  60  70  80  90 100]\n"
     ]
    }
   ],
   "source": [
    "array_arange = np.arange(0,101,10)   #here, \n",
    "print(array_arange)                  #10 is start point and 101 is stop point(excluded 101)\n",
    "                                     #and 10 is the step "
   ]
  },
  {
   "cell_type": "markdown",
   "id": "4323fc4f-1bc1-4658-a3ad-b8dfbe4b5e4e",
   "metadata": {},
   "source": [
    "* np.linspace(): This function creates an array of evenly spaced numbers over a specified interval."
   ]
  },
  {
   "cell_type": "markdown",
   "id": "c1c44789-c035-4d1c-a0ee-b968c0e2e217",
   "metadata": {},
   "source": [
    "                           synatax : (start,stop,num) "
   ]
  },
  {
   "cell_type": "code",
   "execution_count": 13,
   "id": "86302a14-a225-4c8a-856a-015521b17436",
   "metadata": {},
   "outputs": [
    {
     "name": "stdout",
     "output_type": "stream",
     "text": [
      "[  0  11  22  33  44  56  67  78  89 101]\n"
     ]
    }
   ],
   "source": [
    "array_linspace = np.linspace(0,101,10,dtype=int)   #here, \n",
    "print(array_linspace)                              #10 is start point and 101 is the stop point(101 include)\n",
    "                                                   #and 10 is the number of points to generate"
   ]
  },
  {
   "cell_type": "markdown",
   "id": "a2286e44-ff78-4f85-aede-63f3cb856fdb",
   "metadata": {},
   "source": [
    "##### Difference between arange and linspace "
   ]
  },
  {
   "cell_type": "markdown",
   "id": "3dbf8e57-6bae-4aae-a5aa-076db36a3323",
   "metadata": {},
   "source": [
    "* Arange generates evenly spaced values within a specified range using a specified step size whereas linspace generates evenly spaced numbers over a specified interval\n",
    "* Arange produces an array that starts at the start value, ends before reaching the stop value, and increments by the step value whereas linspace produces an array that includes both the start and stop values, with a total of num equally spaced points in between.\n",
    "* The step parameter in arange determines the spacing between values in the array whereas the num in linspace parameter specifies the number of points to generate, not the spacing between them."
   ]
  },
  {
   "cell_type": "markdown",
   "id": "964a1703-fad7-4f4e-847d-bec92c8241cb",
   "metadata": {},
   "source": [
    "#### Attributes of array "
   ]
  },
  {
   "cell_type": "markdown",
   "id": "928e26b8-a20d-45e4-aca9-4c2867efa562",
   "metadata": {},
   "source": [
    "Attributes are the features/characteristics of an object that describes the object.\n",
    "A few attributes of the numpy array are:\n",
    "* size: It gives you the total count of elements in the array.\n",
    "* shape: It returns a tuple representing the size of each dimension of the array.\n",
    "* ndim: It returns an integer representing the number of dimensions in the array.\n",
    "* dtype: It returns a numpy data type object representing the type of elements in the array..pe"
   ]
  },
  {
   "cell_type": "code",
   "execution_count": 14,
   "id": "af7676bc-9a9b-4937-94c3-6fbca3ebf2cf",
   "metadata": {},
   "outputs": [
    {
     "data": {
      "text/plain": [
       "5"
      ]
     },
     "execution_count": 14,
     "metadata": {},
     "output_type": "execute_result"
    }
   ],
   "source": [
    "ar.size     #gives the number of elemnet in a array,which means there are 5 elements the array 'ar'"
   ]
  },
  {
   "cell_type": "code",
   "execution_count": 15,
   "id": "f1dd2f96-316f-4033-8ae3-79142f0b1cf5",
   "metadata": {},
   "outputs": [
    {
     "data": {
      "text/plain": [
       "(5,)"
      ]
     },
     "execution_count": 15,
     "metadata": {},
     "output_type": "execute_result"
    }
   ],
   "source": [
    "ar.shape   #The first element of the tuple represents the number of rows, \n",
    "           #the second element represents the number of columns, which means there are 5 rows in the array 'ar'"
   ]
  },
  {
   "cell_type": "code",
   "execution_count": 16,
   "id": "dfdbccff-472a-4c86-9985-4ac0c47853bc",
   "metadata": {},
   "outputs": [
    {
     "data": {
      "text/plain": [
       "1"
      ]
     },
     "execution_count": 16,
     "metadata": {},
     "output_type": "execute_result"
    }
   ],
   "source": [
    "ar.ndim     #gives the number of dimensions or axes of the array, which means the array 'ar' is 1 dimensional"
   ]
  },
  {
   "cell_type": "code",
   "execution_count": 17,
   "id": "0290bd56-530f-42c0-b983-43c04a915b7c",
   "metadata": {},
   "outputs": [
    {
     "data": {
      "text/plain": [
       "dtype('int32')"
      ]
     },
     "execution_count": 17,
     "metadata": {},
     "output_type": "execute_result"
    }
   ],
   "source": [
    "ar.dtype    #describe the datatype of the array, which means the datatype for array 'ar' is integer"
   ]
  },
  {
   "cell_type": "markdown",
   "id": "31ef6174-9477-41fb-abd9-910242ceafde",
   "metadata": {},
   "source": [
    "#### Creating Identity,zero,full and eye matrix "
   ]
  },
  {
   "cell_type": "markdown",
   "id": "0485ca0a-7238-4db4-96fd-26d50bdda411",
   "metadata": {},
   "source": [
    "* An identity matrix is a square matrix with all diagonal elements equal to 1 and all other elements equal to 0."
   ]
  },
  {
   "cell_type": "code",
   "execution_count": 18,
   "id": "f5b7542e-0b4f-4a82-b7c7-7921914f154e",
   "metadata": {},
   "outputs": [
    {
     "data": {
      "text/plain": [
       "array([[1., 0., 0., 0.],\n",
       "       [0., 1., 0., 0.],\n",
       "       [0., 0., 1., 0.],\n",
       "       [0., 0., 0., 1.]])"
      ]
     },
     "execution_count": 18,
     "metadata": {},
     "output_type": "execute_result"
    }
   ],
   "source": [
    "np.identity(4)"
   ]
  },
  {
   "cell_type": "markdown",
   "id": "bf5f3164-d05d-475d-8ba1-0e65c950aa0c",
   "metadata": {},
   "source": [
    "* A zero matrix is a matrix where all elements are zero."
   ]
  },
  {
   "cell_type": "code",
   "execution_count": 19,
   "id": "f2667ef1-edf8-4bbf-be88-f3477f44016a",
   "metadata": {},
   "outputs": [
    {
     "data": {
      "text/plain": [
       "array([[0, 0, 0],\n",
       "       [0, 0, 0],\n",
       "       [0, 0, 0],\n",
       "       [0, 0, 0]])"
      ]
     },
     "execution_count": 19,
     "metadata": {},
     "output_type": "execute_result"
    }
   ],
   "source": [
    "np.zeros((4,3),dtype=int)"
   ]
  },
  {
   "cell_type": "markdown",
   "id": "60420e53-4b50-4308-9a49-2c6e53548013",
   "metadata": {},
   "source": [
    "* A full matrix is a matrix where all elements have the same specified value."
   ]
  },
  {
   "cell_type": "code",
   "execution_count": 20,
   "id": "c7f41564-1425-4898-a740-2406a9df0fbd",
   "metadata": {},
   "outputs": [
    {
     "data": {
      "text/plain": [
       "array([[5, 5, 5, 5],\n",
       "       [5, 5, 5, 5],\n",
       "       [5, 5, 5, 5],\n",
       "       [5, 5, 5, 5]])"
      ]
     },
     "execution_count": 20,
     "metadata": {},
     "output_type": "execute_result"
    }
   ],
   "source": [
    "np.full((4,4),5)"
   ]
  },
  {
   "cell_type": "markdown",
   "id": "c194e8fb-46e3-4780-b2f3-0c6ddf4aafb2",
   "metadata": {},
   "source": [
    "* An eye matrix is a square matrix with ones on the diagonal and zeros elsewhere."
   ]
  },
  {
   "cell_type": "code",
   "execution_count": 21,
   "id": "afc1c9ec-7bfc-4203-85b3-f1519172bc9d",
   "metadata": {},
   "outputs": [
    {
     "data": {
      "text/plain": [
       "array([[0., 1., 0.],\n",
       "       [0., 0., 1.],\n",
       "       [0., 0., 0.],\n",
       "       [0., 0., 0.]])"
      ]
     },
     "execution_count": 21,
     "metadata": {},
     "output_type": "execute_result"
    }
   ],
   "source": [
    "np.eye(4,3,k=1)  #k parameter shifts the digonal of the matrix  "
   ]
  },
  {
   "cell_type": "markdown",
   "id": "61ce6058-23d7-44d3-be56-92c4dd390e89",
   "metadata": {},
   "source": [
    "* The difference between identity and eye matrix is that identity matrix is a square matrix whereas eye matrix can take any shape.\n",
    "* Eye matrix have a k parameter which shifts the digonal of the matrix whereas identity matrix doesn't have k parameter."
   ]
  },
  {
   "cell_type": "markdown",
   "id": "f73a9f91-7c27-4b42-afd6-2423e59e8ba4",
   "metadata": {},
   "source": [
    "#### 2D Array, 3D Array and , reshape()"
   ]
  },
  {
   "cell_type": "code",
   "execution_count": 22,
   "id": "d4b0b815-edf4-47b8-a4f3-0d561e9b9c4f",
   "metadata": {},
   "outputs": [
    {
     "name": "stdout",
     "output_type": "stream",
     "text": [
      "[[ 3  6  9]\n",
      " [ 4  8 12]\n",
      " [ 5 10 15]]\n"
     ]
    }
   ],
   "source": [
    "le = [[3,6,9],[4,8,12],[5,10,15]]      #nested list make the 2D array\n",
    "ar2 = np.array(le)\n",
    "print(ar2)  "
   ]
  },
  {
   "cell_type": "code",
   "execution_count": 23,
   "id": "7f3f0447-3b95-4a1d-8865-93303c08155a",
   "metadata": {},
   "outputs": [
    {
     "name": "stdout",
     "output_type": "stream",
     "text": [
      "2\n"
     ]
    }
   ],
   "source": [
    "print(ar2.ndim)"
   ]
  },
  {
   "cell_type": "code",
   "execution_count": 24,
   "id": "b4a9e79d-0b4a-4c95-aae0-5cb452256cd3",
   "metadata": {},
   "outputs": [
    {
     "name": "stdout",
     "output_type": "stream",
     "text": [
      "[[[ 2  4  5  6]\n",
      "  [ 9 67 89 45]\n",
      "  [90 35 67 97]]\n",
      "\n",
      " [[45 67 89 12]\n",
      "  [45 78 56 70]\n",
      "  [23 45 34 12]]]\n"
     ]
    }
   ],
   "source": [
    "lee = [[[2,4,5,6],[9,67,89,45],[90,35,67,97]],[[45,67,89,12],[45,78,56,70],[23,45,34,12]]]   #double nested list make 3D array\n",
    "ar3 = np.array(lee)\n",
    "print(ar3)"
   ]
  },
  {
   "cell_type": "code",
   "execution_count": 25,
   "id": "ee558206-4a20-4cc9-9547-1ba4e60f69ea",
   "metadata": {},
   "outputs": [
    {
     "name": "stdout",
     "output_type": "stream",
     "text": [
      "3\n"
     ]
    }
   ],
   "source": [
    "print(ar3.ndim)"
   ]
  },
  {
   "cell_type": "code",
   "execution_count": 26,
   "id": "f7faa4f9-702f-4b69-b360-19ec7a7e2bcd",
   "metadata": {},
   "outputs": [
    {
     "data": {
      "text/plain": [
       "array([30, 49, 44, 34, 33, 43, 48, 26, 43, 42, 43, 22, 43, 36, 29, 35, 45,\n",
       "       49, 21, 39])"
      ]
     },
     "execution_count": 26,
     "metadata": {},
     "output_type": "execute_result"
    }
   ],
   "source": [
    "arr1 = np.random.randint(20,50,20)\n",
    "arr1"
   ]
  },
  {
   "cell_type": "code",
   "execution_count": 27,
   "id": "85220b70-5eca-4942-a732-a661648c84bf",
   "metadata": {},
   "outputs": [
    {
     "data": {
      "text/plain": [
       "1"
      ]
     },
     "execution_count": 27,
     "metadata": {},
     "output_type": "execute_result"
    }
   ],
   "source": [
    "arr1.ndim"
   ]
  },
  {
   "cell_type": "code",
   "execution_count": 28,
   "id": "9939126a-9e84-481a-81f4-047a26f16fb2",
   "metadata": {},
   "outputs": [
    {
     "name": "stdout",
     "output_type": "stream",
     "text": [
      "[[30 49 44 34]\n",
      " [33 43 48 26]\n",
      " [43 42 43 22]\n",
      " [43 36 29 35]\n",
      " [45 49 21 39]]\n"
     ]
    }
   ],
   "source": [
    "# Converting this 1D array into 2D array \n",
    "# We are using .reshape function for doing the same \n",
    "# We choose rows and columns in such a way that its multipy is equal to no. of elements of 1D array\n",
    "arr2 = arr1.reshape(5,4)\n",
    "print(arr2)"
   ]
  },
  {
   "cell_type": "code",
   "execution_count": 29,
   "id": "34dd3e7b-f744-4c61-9cfc-12d32c1cf5ee",
   "metadata": {},
   "outputs": [
    {
     "name": "stdout",
     "output_type": "stream",
     "text": [
      "2\n"
     ]
    }
   ],
   "source": [
    "print(arr2.ndim)"
   ]
  },
  {
   "cell_type": "code",
   "execution_count": 30,
   "id": "efb93917-54fb-4832-95fe-ebc65f2eefb0",
   "metadata": {},
   "outputs": [
    {
     "name": "stdout",
     "output_type": "stream",
     "text": [
      "[[[30 49]\n",
      "  [44 34]\n",
      "  [33 43]\n",
      "  [48 26]\n",
      "  [43 42]]\n",
      "\n",
      " [[43 22]\n",
      "  [43 36]\n",
      "  [29 35]\n",
      "  [45 49]\n",
      "  [21 39]]]\n"
     ]
    }
   ],
   "source": [
    "# Simlarily Converting this 1D Array into 3D array\n",
    "arr3 = arr1.reshape(2,5,2)\n",
    "print(arr3)"
   ]
  },
  {
   "cell_type": "code",
   "execution_count": 31,
   "id": "01cc5e08-9cd0-458a-8dfa-653abecb95bd",
   "metadata": {},
   "outputs": [
    {
     "data": {
      "text/plain": [
       "3"
      ]
     },
     "execution_count": 31,
     "metadata": {},
     "output_type": "execute_result"
    }
   ],
   "source": [
    "arr3.ndim"
   ]
  },
  {
   "cell_type": "code",
   "execution_count": 32,
   "id": "6da4b378-141a-44c0-ae5f-2494368e202f",
   "metadata": {},
   "outputs": [
    {
     "data": {
      "text/plain": [
       "array([30, 49, 44, 34, 33, 43, 48, 26, 43, 42, 43, 22, 43, 36, 29, 35, 45,\n",
       "       49, 21, 39])"
      ]
     },
     "execution_count": 32,
     "metadata": {},
     "output_type": "execute_result"
    }
   ],
   "source": [
    "# Converting 2D, 3D array into 1D array, for that we use .flatten() \n",
    "arr2.flatten()"
   ]
  },
  {
   "cell_type": "markdown",
   "id": "b0343fa3-bff3-486f-ad25-f2e75c6f08dc",
   "metadata": {},
   "source": [
    "### Indexing and Slicing of array "
   ]
  },
  {
   "cell_type": "markdown",
   "id": "bd8d4f3e-a892-486b-b9be-884347b63d98",
   "metadata": {},
   "source": [
    "Index 1D Array:\n",
    "\n",
    "Each element in the array can be accessed by passing the positional index of the element . The index for an array starts at 0 from left, It starts at -1 from the right."
   ]
  },
  {
   "cell_type": "code",
   "execution_count": 33,
   "id": "06d291b5-da5a-4b4a-af20-c71a9ed7acd9",
   "metadata": {},
   "outputs": [
    {
     "name": "stdout",
     "output_type": "stream",
     "text": [
      "[24 93 84  6 56 70 95  8 68 10]\n"
     ]
    }
   ],
   "source": [
    "# genearting a random array \n",
    "arr = np.random.randint(1,100,10)\n",
    "print(arr)"
   ]
  },
  {
   "cell_type": "code",
   "execution_count": 34,
   "id": "cbe05833-daca-414e-9f4f-9a0079a56840",
   "metadata": {},
   "outputs": [
    {
     "name": "stdout",
     "output_type": "stream",
     "text": [
      "24\n",
      "6\n",
      "10\n",
      "[24 93 84  6 56 70]\n",
      "[24 84 56 95 68]\n",
      "[10 68  8 95 70 56  6 84 93 24]\n"
     ]
    }
   ],
   "source": [
    "# Indexing of this 1D array \n",
    "print(arr[0])\n",
    "print(arr[3])\n",
    "print(arr[-1])\n",
    "# Slicing \n",
    "print(arr[0:6])\n",
    "print(arr[0::2])\n",
    "print(arr[::-1])"
   ]
  },
  {
   "cell_type": "markdown",
   "id": "57cdee59-d1b1-4246-b010-704cf3714e9b",
   "metadata": {},
   "source": [
    "Index 2D Array: \n",
    "\n",
    "Elements in 2D array can be accessded by the row and column indices. We can also select a specific row or column by passing the respective index."
   ]
  },
  {
   "cell_type": "code",
   "execution_count": 35,
   "id": "22fb1c8d-3893-4b69-9581-8562427189ac",
   "metadata": {},
   "outputs": [
    {
     "name": "stdout",
     "output_type": "stream",
     "text": [
      "[[24 93]\n",
      " [84  6]\n",
      " [56 70]\n",
      " [95  8]\n",
      " [68 10]]\n"
     ]
    }
   ],
   "source": [
    "arr2 = arr.reshape(5,2)\n",
    "print(arr2)"
   ]
  },
  {
   "cell_type": "code",
   "execution_count": 36,
   "id": "9f64ffeb-1213-4672-be2b-c6c8c4755350",
   "metadata": {},
   "outputs": [
    {
     "name": "stdout",
     "output_type": "stream",
     "text": [
      "[24 93]\n",
      "[[84  6]\n",
      " [56 70]]\n",
      "[[95  8]\n",
      " [68 10]]\n",
      "[[56 70]]\n"
     ]
    }
   ],
   "source": [
    "# Indexing in 2D array\n",
    "print(arr2[0])\n",
    "#Slicing in 2D array: arr2[rows,column]\n",
    "print(arr2[1:3,0:])\n",
    "print(arr2[3:,0:])\n",
    "print(arr2[2:3])"
   ]
  },
  {
   "cell_type": "markdown",
   "id": "ab6e6703-eba2-4cd7-887f-0f7db9aa3cfa",
   "metadata": {},
   "source": [
    "Index 3D Array:"
   ]
  },
  {
   "cell_type": "code",
   "execution_count": 37,
   "id": "aaa591b1-d90f-4b38-b8f4-717eeea62b79",
   "metadata": {},
   "outputs": [
    {
     "data": {
      "text/plain": [
       "array([[[30, 49],\n",
       "        [44, 34],\n",
       "        [33, 43],\n",
       "        [48, 26],\n",
       "        [43, 42]],\n",
       "\n",
       "       [[43, 22],\n",
       "        [43, 36],\n",
       "        [29, 35],\n",
       "        [45, 49],\n",
       "        [21, 39]]])"
      ]
     },
     "execution_count": 37,
     "metadata": {},
     "output_type": "execute_result"
    }
   ],
   "source": [
    "arr3 "
   ]
  },
  {
   "cell_type": "code",
   "execution_count": 38,
   "id": "8c157b68-052f-44dc-8b24-6836a6637111",
   "metadata": {},
   "outputs": [
    {
     "name": "stdout",
     "output_type": "stream",
     "text": [
      "[[30 49]\n",
      " [44 34]\n",
      " [33 43]\n",
      " [48 26]\n",
      " [43 42]]\n",
      "[[43 22]\n",
      " [43 36]\n",
      " [29 35]\n",
      " [45 49]\n",
      " [21 39]]\n",
      "[[43]\n",
      " [29]]\n",
      "[[44 34]\n",
      " [33 43]]\n",
      "[[[49]\n",
      "  [34]\n",
      "  [43]\n",
      "  [26]\n",
      "  [42]]\n",
      "\n",
      " [[22]\n",
      "  [36]\n",
      "  [35]\n",
      "  [49]\n",
      "  [39]]]\n"
     ]
    }
   ],
   "source": [
    "#Indexing\n",
    "print(arr3[0])        #will give the first matrix \n",
    "print(arr3[1])        #will give the second matrix\n",
    "#Slicing : [matrix:rows:columns]\n",
    "print(arr3[1,1:3,0:1])\n",
    "print(arr3[0,1:3,:])\n",
    "print(arr3[:,:,1:])"
   ]
  },
  {
   "cell_type": "markdown",
   "id": "d37dba5a-4e2a-4bbf-aaac-0c1672eb045e",
   "metadata": {},
   "source": [
    "### Comparison Operation on Array"
   ]
  },
  {
   "cell_type": "markdown",
   "id": "918cdf77-dba5-4bcb-9303-5c49febc53d0",
   "metadata": {},
   "source": [
    "While working with list, we cannot directly use the comparison operator whereas while working with array we can directly us ethe comparison operators."
   ]
  },
  {
   "cell_type": "code",
   "execution_count": 39,
   "id": "152122f6-6ea3-4008-ae2e-005049943a8c",
   "metadata": {},
   "outputs": [
    {
     "data": {
      "text/plain": [
       "array([24, 93, 84,  6, 56, 70, 95,  8, 68, 10])"
      ]
     },
     "execution_count": 39,
     "metadata": {},
     "output_type": "execute_result"
    }
   ],
   "source": [
    "arr"
   ]
  },
  {
   "cell_type": "code",
   "execution_count": 40,
   "id": "a0152d55-1982-4ba5-ac15-756728712281",
   "metadata": {},
   "outputs": [
    {
     "data": {
      "text/plain": [
       "array([False,  True,  True, False, False, False,  True, False, False,\n",
       "       False])"
      ]
     },
     "execution_count": 40,
     "metadata": {},
     "output_type": "execute_result"
    }
   ],
   "source": [
    "arr>70      #Here, we are getting the output in boolean form to filter out we will use square bracket"
   ]
  },
  {
   "cell_type": "code",
   "execution_count": 41,
   "id": "070da2ef-14db-462f-9ddc-0eb9e22f81a1",
   "metadata": {},
   "outputs": [
    {
     "data": {
      "text/plain": [
       "array([93, 84, 95])"
      ]
     },
     "execution_count": 41,
     "metadata": {},
     "output_type": "execute_result"
    }
   ],
   "source": [
    "arr[arr>70]    #Here, we are filtering the elements of arr which are greater than 70"
   ]
  },
  {
   "cell_type": "code",
   "execution_count": 42,
   "id": "8fe23965-4369-4c2a-a9af-74387d4f221d",
   "metadata": {},
   "outputs": [
    {
     "data": {
      "text/plain": [
       "array([24, 93, 84,  6])"
      ]
     },
     "execution_count": 42,
     "metadata": {},
     "output_type": "execute_result"
    }
   ],
   "source": [
    "arr[arr%3==0]"
   ]
  },
  {
   "cell_type": "code",
   "execution_count": 43,
   "id": "545c13bb-5cf4-4509-b59d-3e3b3012dc4f",
   "metadata": {},
   "outputs": [
    {
     "data": {
      "text/plain": [
       "array([93, 84])"
      ]
     },
     "execution_count": 43,
     "metadata": {},
     "output_type": "execute_result"
    }
   ],
   "source": [
    "#Now Suppose we want both elelments of an array which are greater thanm 70 and divisiable by 3\n",
    "#arr[arr>70 and arr%3==0]     # using and will throw an error here, so a precise way to write this is \n",
    "\n",
    "arr[(arr>70) & (arr%3==0)]   # using parnthesis for different condition and use bitwise and (&)"
   ]
  },
  {
   "cell_type": "markdown",
   "id": "b602c820-38e4-4720-aded-fb40aaa6af32",
   "metadata": {},
   "source": [
    "### Arithmetic Operations on Array"
   ]
  },
  {
   "cell_type": "code",
   "execution_count": 44,
   "id": "401cd6e1-04f7-4ee2-a449-7fd8732bccab",
   "metadata": {},
   "outputs": [],
   "source": [
    "# Addition on Array \n",
    "ar_1 = np.random.randint(10,50,7)\n",
    "ar_2 = np.random.randint(10,50,7)"
   ]
  },
  {
   "cell_type": "code",
   "execution_count": 45,
   "id": "0c17e6ec-a906-45a7-9699-7034712da9da",
   "metadata": {},
   "outputs": [
    {
     "data": {
      "text/plain": [
       "array([14, 41, 37, 29, 17, 48, 26])"
      ]
     },
     "execution_count": 45,
     "metadata": {},
     "output_type": "execute_result"
    }
   ],
   "source": [
    "ar_1"
   ]
  },
  {
   "cell_type": "code",
   "execution_count": 46,
   "id": "38b35154-1dd8-4797-94b9-0b72f7828543",
   "metadata": {},
   "outputs": [
    {
     "data": {
      "text/plain": [
       "array([34, 19, 34, 14, 34, 49, 13])"
      ]
     },
     "execution_count": 46,
     "metadata": {},
     "output_type": "execute_result"
    }
   ],
   "source": [
    "ar_2"
   ]
  },
  {
   "cell_type": "code",
   "execution_count": 47,
   "id": "1bf366b0-f9c3-403b-82e4-afb6dc80d5da",
   "metadata": {},
   "outputs": [
    {
     "data": {
      "text/plain": [
       "array([48, 60, 71, 43, 51, 97, 39])"
      ]
     },
     "execution_count": 47,
     "metadata": {},
     "output_type": "execute_result"
    }
   ],
   "source": [
    "ar_1+ar_2"
   ]
  },
  {
   "cell_type": "code",
   "execution_count": 48,
   "id": "79e63531-7d0f-4d22-913b-1ef888586380",
   "metadata": {},
   "outputs": [
    {
     "data": {
      "text/plain": [
       "array([-20,  22,   3,  15, -17,  -1,  13])"
      ]
     },
     "execution_count": 48,
     "metadata": {},
     "output_type": "execute_result"
    }
   ],
   "source": [
    "# subtraction on array \n",
    "ar_1 - ar_2"
   ]
  },
  {
   "cell_type": "code",
   "execution_count": 49,
   "id": "ee4d4957-23e4-4642-bbc3-2f861889e952",
   "metadata": {},
   "outputs": [],
   "source": [
    "# Addition and Subtraction of matrix\n",
    "mat_1 = np.random.randint(10,50,12).reshape(3,4)\n",
    "mat_2 = np.random.randint(10,50,12).reshape(3,4)"
   ]
  },
  {
   "cell_type": "code",
   "execution_count": 50,
   "id": "77973d3a-f5c9-4323-84a0-d3e3c4c34d77",
   "metadata": {},
   "outputs": [
    {
     "data": {
      "text/plain": [
       "array([[12, 24, 28, 49],\n",
       "       [40, 39, 12, 20],\n",
       "       [24, 26, 16, 21]])"
      ]
     },
     "execution_count": 50,
     "metadata": {},
     "output_type": "execute_result"
    }
   ],
   "source": [
    "mat_1"
   ]
  },
  {
   "cell_type": "code",
   "execution_count": 51,
   "id": "380aa4fe-849d-4df6-9e36-be39ae6c66a3",
   "metadata": {},
   "outputs": [
    {
     "data": {
      "text/plain": [
       "array([[23, 44, 33, 26],\n",
       "       [29, 35, 22, 13],\n",
       "       [17, 37, 10, 35]])"
      ]
     },
     "execution_count": 51,
     "metadata": {},
     "output_type": "execute_result"
    }
   ],
   "source": [
    "mat_2"
   ]
  },
  {
   "cell_type": "code",
   "execution_count": 52,
   "id": "40efc787-9e81-4b14-98a9-f4e0872807cc",
   "metadata": {},
   "outputs": [
    {
     "data": {
      "text/plain": [
       "array([[35, 68, 61, 75],\n",
       "       [69, 74, 34, 33],\n",
       "       [41, 63, 26, 56]])"
      ]
     },
     "execution_count": 52,
     "metadata": {},
     "output_type": "execute_result"
    }
   ],
   "source": [
    "# addition of matrix\n",
    "mat_1 + mat_2"
   ]
  },
  {
   "cell_type": "code",
   "execution_count": 53,
   "id": "4f3fb81e-2183-44ea-88f1-e30e520be074",
   "metadata": {},
   "outputs": [
    {
     "data": {
      "text/plain": [
       "array([[-11, -20,  -5,  23],\n",
       "       [ 11,   4, -10,   7],\n",
       "       [  7, -11,   6, -14]])"
      ]
     },
     "execution_count": 53,
     "metadata": {},
     "output_type": "execute_result"
    }
   ],
   "source": [
    "# subtraction of matrix \n",
    "mat_1 - mat_2"
   ]
  },
  {
   "cell_type": "code",
   "execution_count": 54,
   "id": "6727d08d-52e1-4dae-994a-9bc6abcef744",
   "metadata": {},
   "outputs": [
    {
     "data": {
      "text/plain": [
       "array([[ 276, 1056,  924, 1274],\n",
       "       [1160, 1365,  264,  260],\n",
       "       [ 408,  962,  160,  735]])"
      ]
     },
     "execution_count": 54,
     "metadata": {},
     "output_type": "execute_result"
    }
   ],
   "source": [
    "# multiplication \n",
    "# element wise multiplication\n",
    "mat_1*mat_2"
   ]
  },
  {
   "cell_type": "code",
   "execution_count": 55,
   "id": "cdf88fd0-d888-4afc-b192-248d7a21b19f",
   "metadata": {},
   "outputs": [],
   "source": [
    "# Matrix multiplication \n",
    "# Rule for matrix multiplication: The column of first matrix should be equal to row of second matrix\n"
   ]
  },
  {
   "cell_type": "code",
   "execution_count": 56,
   "id": "d070792d-73ab-4851-9548-06998b2dc598",
   "metadata": {},
   "outputs": [],
   "source": [
    "mat1 = np.random.randint(10,50,12).reshape(4,3)\n",
    "mat2 = np.random.randint(10,50,12).reshape(3,4)"
   ]
  },
  {
   "cell_type": "code",
   "execution_count": 57,
   "id": "9fac1773-9b34-4f05-a1ae-bee5f009368e",
   "metadata": {},
   "outputs": [
    {
     "data": {
      "text/plain": [
       "array([[32, 40, 18],\n",
       "       [40, 49, 35],\n",
       "       [23, 10, 49],\n",
       "       [33, 44, 29]])"
      ]
     },
     "execution_count": 57,
     "metadata": {},
     "output_type": "execute_result"
    }
   ],
   "source": [
    "mat1"
   ]
  },
  {
   "cell_type": "code",
   "execution_count": 58,
   "id": "67c3d991-6152-437c-9913-844c736f40f5",
   "metadata": {},
   "outputs": [
    {
     "data": {
      "text/plain": [
       "array([[34, 44, 16, 34],\n",
       "       [10, 44, 15, 13],\n",
       "       [18, 14, 34, 14]])"
      ]
     },
     "execution_count": 58,
     "metadata": {},
     "output_type": "execute_result"
    }
   ],
   "source": [
    "mat2"
   ]
  },
  {
   "cell_type": "code",
   "execution_count": 59,
   "id": "c7aca2f7-affd-49d2-b973-6041d13f9499",
   "metadata": {},
   "outputs": [
    {
     "data": {
      "text/plain": [
       "array([[1812, 3420, 1724, 1860],\n",
       "       [2480, 4406, 2565, 2487],\n",
       "       [1764, 2138, 2184, 1598],\n",
       "       [2084, 3794, 2174, 2100]])"
      ]
     },
     "execution_count": 59,
     "metadata": {},
     "output_type": "execute_result"
    }
   ],
   "source": [
    "# mat1 ==> shape ==> 4 x 3 \n",
    "# mat2 ==> shape ==> 3 x 4\n",
    "# Col1 == row2\n",
    "# resultant matrix ==> 4 x 4 \n",
    "\n",
    "mat1.dot(mat2)    # .dot() is a function used for matrix multiplication "
   ]
  },
  {
   "cell_type": "markdown",
   "id": "3620de19-60c8-4519-8935-2a48e3017882",
   "metadata": {},
   "source": [
    "### Arithmetic Functions on Array"
   ]
  },
  {
   "cell_type": "code",
   "execution_count": 60,
   "id": "490ddab5-80fe-4f73-9e4e-f69e7387fbac",
   "metadata": {},
   "outputs": [
    {
     "data": {
      "text/plain": [
       "array([24, 93, 84,  6, 56, 70, 95,  8, 68, 10])"
      ]
     },
     "execution_count": 60,
     "metadata": {},
     "output_type": "execute_result"
    }
   ],
   "source": [
    "arr"
   ]
  },
  {
   "cell_type": "code",
   "execution_count": 61,
   "id": "6ab2cfda-b522-4395-9834-4161ed35711b",
   "metadata": {},
   "outputs": [
    {
     "name": "stdout",
     "output_type": "stream",
     "text": [
      "6\n",
      "6\n"
     ]
    }
   ],
   "source": [
    "# min()\n",
    "# array \n",
    "print(min(arr))\n",
    "print(arr.min())  # a better way to do "
   ]
  },
  {
   "cell_type": "code",
   "execution_count": 62,
   "id": "d8f29e3e-0d10-4202-a0a0-949e567fce67",
   "metadata": {},
   "outputs": [
    {
     "data": {
      "text/plain": [
       "array([23, 10, 18])"
      ]
     },
     "execution_count": 62,
     "metadata": {},
     "output_type": "execute_result"
    }
   ],
   "source": [
    "# Matrix \n",
    "mat1.min(axis = 0)\n",
    "# axis = 0 : across row   (min of columns we have to traverse through row)\n",
    "# axis = 1 : across column (min of row we have to traverse through coloumn)"
   ]
  },
  {
   "cell_type": "code",
   "execution_count": 63,
   "id": "c2137e39-cf75-49fc-ae91-4f6afec6bbc9",
   "metadata": {},
   "outputs": [
    {
     "name": "stdout",
     "output_type": "stream",
     "text": [
      "95\n",
      "[40 49 49]\n"
     ]
    }
   ],
   "source": [
    "# max()\n",
    "# array \n",
    "print(arr.max())\n",
    "# matrix \n",
    "print(mat1.max(axis=0))"
   ]
  },
  {
   "cell_type": "code",
   "execution_count": 64,
   "id": "4f79cb65-d339-44f3-a87c-20386304f37c",
   "metadata": {},
   "outputs": [
    {
     "name": "stdout",
     "output_type": "stream",
     "text": [
      "514\n",
      "402\n",
      "[128 143 131]\n",
      "[ 90 124  82 106]\n"
     ]
    }
   ],
   "source": [
    "# sum()\n",
    "# array \n",
    "print(arr.sum())\n",
    "# matrix\n",
    "print(mat1.sum())         # sum of all the elements in the matrix \n",
    "print(mat1.sum(axis=0))   # sum of elements across row\n",
    "print(mat1.sum(axis=1))   # sum of elements across column"
   ]
  },
  {
   "cell_type": "code",
   "execution_count": 65,
   "id": "80d18d9a-492f-4f28-9e16-45170a2d9e3c",
   "metadata": {},
   "outputs": [
    {
     "name": "stdout",
     "output_type": "stream",
     "text": [
      "51.4\n",
      "33.5\n",
      "[32.   35.75 32.75]\n",
      "[30.         41.33333333 27.33333333 35.33333333]\n"
     ]
    }
   ],
   "source": [
    "# mean()\n",
    "# array \n",
    "print(arr.mean())\n",
    "# Matrix \n",
    "print(mat1.mean())         # mean of all the elements in matrix \n",
    "print(mat1.mean(axis=0))   # mean of elements across row\n",
    "print(mat1.mean(axis=1))   # mean of elements across column"
   ]
  },
  {
   "cell_type": "code",
   "execution_count": 66,
   "id": "021c9896-4c32-4cde-a69e-7e77d515f9ff",
   "metadata": {},
   "outputs": [
    {
     "name": "stdout",
     "output_type": "stream",
     "text": [
      "[ 576 8649 7056   36 3136 4900 9025   64 4624  100]\n",
      "[[1024 1600  324]\n",
      " [1600 2401 1225]\n",
      " [ 529  100 2401]\n",
      " [1089 1936  841]]\n"
     ]
    }
   ],
   "source": [
    "# square()\n",
    "# array \n",
    "print(np.square(arr))  # square all the elements in an array \n",
    "# matrix\n",
    "print(np.square(mat1)) "
   ]
  },
  {
   "cell_type": "code",
   "execution_count": 67,
   "id": "983d1f5c-fc05-41ef-9c98-ba53b4b58426",
   "metadata": {},
   "outputs": [
    {
     "name": "stdout",
     "output_type": "stream",
     "text": [
      "[ 13824 804357 592704    216 175616 343000 857375    512 314432   1000]\n",
      "[[ 32768  64000   5832]\n",
      " [ 64000 117649  42875]\n",
      " [ 12167   1000 117649]\n",
      " [ 35937  85184  24389]]\n",
      "[[ 32768  64000   5832]\n",
      " [ 64000 117649  42875]\n",
      " [ 12167   1000 117649]\n",
      " [ 35937  85184  24389]]\n"
     ]
    }
   ],
   "source": [
    "# power()\n",
    "# array \n",
    "print(np.power(arr,3))\n",
    "# matrix\n",
    "print(np.power(mat1,3))\n",
    "\n",
    "# cube could also be found in this way \n",
    "print(mat1**3)"
   ]
  },
  {
   "cell_type": "code",
   "execution_count": 68,
   "id": "0ed31ae6-3a5f-4059-899d-d9eab6c3e60f",
   "metadata": {},
   "outputs": [
    {
     "name": "stdout",
     "output_type": "stream",
     "text": [
      "[[32 40 18]\n",
      " [40 49 35]\n",
      " [23 10 49]\n",
      " [33 44 29]]\n",
      "[[32 40 23 33]\n",
      " [40 49 10 44]\n",
      " [18 35 49 29]]\n"
     ]
    },
    {
     "data": {
      "text/plain": [
       "array([[32, 40, 23, 33],\n",
       "       [40, 49, 10, 44],\n",
       "       [18, 35, 49, 29]])"
      ]
     },
     "execution_count": 68,
     "metadata": {},
     "output_type": "execute_result"
    }
   ],
   "source": [
    "# transpose()\n",
    "# it swaps the rows and columns of a matrix\n",
    "print(mat1)\n",
    "print(np.transpose(mat1))\n",
    "\n",
    "# another way \n",
    "mat1.T"
   ]
  },
  {
   "cell_type": "markdown",
   "id": "dcfcf2ca-9a69-4ed3-ad46-10b9eee9ae16",
   "metadata": {},
   "source": [
    "### Conatination of 1D Array and 2D Array"
   ]
  },
  {
   "cell_type": "code",
   "execution_count": 69,
   "id": "13b71e79-c840-44f8-99ca-57e0d508f595",
   "metadata": {},
   "outputs": [
    {
     "data": {
      "text/plain": [
       "array([30, 49, 44, 34, 33, 43, 48, 26, 43, 42, 43, 22, 43, 36, 29, 35, 45,\n",
       "       49, 21, 39])"
      ]
     },
     "execution_count": 69,
     "metadata": {},
     "output_type": "execute_result"
    }
   ],
   "source": [
    "arr1"
   ]
  },
  {
   "cell_type": "code",
   "execution_count": 70,
   "id": "5096c282-9d62-4787-8681-4c2874679db5",
   "metadata": {},
   "outputs": [
    {
     "data": {
      "text/plain": [
       "array([24, 93, 84,  6, 56, 70, 95,  8, 68, 10])"
      ]
     },
     "execution_count": 70,
     "metadata": {},
     "output_type": "execute_result"
    }
   ],
   "source": [
    "arr"
   ]
  },
  {
   "cell_type": "code",
   "execution_count": 71,
   "id": "a847c36a-2677-4c84-b153-9b4e7c272669",
   "metadata": {},
   "outputs": [
    {
     "data": {
      "text/plain": [
       "array([30, 49, 44, 34, 33, 43, 48, 26, 43, 42, 43, 22, 43, 36, 29, 35, 45,\n",
       "       49, 21, 39, 24, 93, 84,  6, 56, 70, 95,  8, 68, 10])"
      ]
     },
     "execution_count": 71,
     "metadata": {},
     "output_type": "execute_result"
    }
   ],
   "source": [
    "np.concatenate([arr1,arr])"
   ]
  },
  {
   "cell_type": "code",
   "execution_count": 72,
   "id": "19cb48d6-e86c-44b3-ba62-7092b684639c",
   "metadata": {},
   "outputs": [
    {
     "data": {
      "text/plain": [
       "array([[32, 40, 18],\n",
       "       [40, 49, 35],\n",
       "       [23, 10, 49],\n",
       "       [33, 44, 29]])"
      ]
     },
     "execution_count": 72,
     "metadata": {},
     "output_type": "execute_result"
    }
   ],
   "source": [
    "mat1"
   ]
  },
  {
   "cell_type": "code",
   "execution_count": 73,
   "id": "ddc796d1-e662-40f8-83a4-f0a6c5ee4ffe",
   "metadata": {},
   "outputs": [],
   "source": [
    "mat22=mat2.reshape(4,3)"
   ]
  },
  {
   "cell_type": "code",
   "execution_count": 74,
   "id": "9a7fa4a3-923d-407b-ac8f-21968dce0b35",
   "metadata": {},
   "outputs": [
    {
     "data": {
      "text/plain": [
       "array([[32, 40, 18],\n",
       "       [40, 49, 35],\n",
       "       [23, 10, 49],\n",
       "       [33, 44, 29],\n",
       "       [34, 44, 16],\n",
       "       [34, 10, 44],\n",
       "       [15, 13, 18],\n",
       "       [14, 34, 14]])"
      ]
     },
     "execution_count": 74,
     "metadata": {},
     "output_type": "execute_result"
    }
   ],
   "source": [
    "np.concatenate([mat1,mat22],axis=0)   # number of columns in the matrix must be same "
   ]
  }
 ],
 "metadata": {
  "kernelspec": {
   "display_name": "Python 3 (ipykernel)",
   "language": "python",
   "name": "python3"
  },
  "language_info": {
   "codemirror_mode": {
    "name": "ipython",
    "version": 3
   },
   "file_extension": ".py",
   "mimetype": "text/x-python",
   "name": "python",
   "nbconvert_exporter": "python",
   "pygments_lexer": "ipython3",
   "version": "3.12.0"
  }
 },
 "nbformat": 4,
 "nbformat_minor": 5
}
